{
  "nbformat": 4,
  "nbformat_minor": 0,
  "metadata": {
    "colab": {
      "name": "DW_emotion_recognition.ipynb",
      "provenance": [],
      "collapsed_sections": []
    },
    "kernelspec": {
      "name": "python3",
      "display_name": "Python 3"
    },
    "accelerator": "GPU"
  },
  "cells": [
    {
      "cell_type": "code",
      "metadata": {
        "id": "curu2Ki4UNNl",
        "colab_type": "code",
        "colab": {}
      },
      "source": [
        "import tensorflow as tf\n",
        "from tensorflow import keras\n",
        "import keras\n",
        "from keras import models\n",
        "from keras import layers\n",
        "from keras import optimizers\n",
        "import matplotlib.pyplot as plt\n",
        "import numpy as np\n",
        "import pickle"
      ],
      "execution_count": null,
      "outputs": []
    },
    {
      "cell_type": "markdown",
      "metadata": {
        "id": "2EgXjaLhUYw_",
        "colab_type": "text"
      },
      "source": [
        "40 participants watched 16 short videos (duration <250 seconds)\n",
        "\n",
        "for each participant 94 clips were recorded (40 * 94 = 3760 clips in total)\n",
        "\n",
        "Each physiological signal is made up of 640 instances (40 participants * 16 videos), but at the time of consolidating the data frame, null values were found, therefore, it was reduced to 603 instances"
      ]
    },
    {
      "cell_type": "markdown",
      "metadata": {
        "id": "WWlradqTUz5S",
        "colab_type": "text"
      },
      "source": [
        "Once the physiological signals have been preprocessed, it is defined a segment of length of 200 R peaks for the input vector of the ECG signal (not sure how such length was obtained, signal for one video has ~30 R peaks)"
      ]
    },
    {
      "cell_type": "markdown",
      "metadata": {
        "id": "ObpUaSzIVIuh",
        "colab_type": "text"
      },
      "source": [
        "\"Therefore, in figure 3, it is shown the system with the components to load the dataset in a data frame, as a requirement for the preprocessing of the ECG and GSR signals. Then, the feature extraction stage can be developed explicitly or implicitly. The first uses hand-crafted functions to obtain features in the time or frequency domain, which can be selected with machine learning algorithms. The second, with deep learning, extracts automatic representations of the features. Finally, the models are trained and tested with algorithms from the two approaches.\""
      ]
    },
    {
      "cell_type": "markdown",
      "metadata": {
        "id": "g7JqySw3VGr-",
        "colab_type": "text"
      },
      "source": [
        "The code below was used (locally) to prepare input data files with serialized variables.\n",
        "Available here only for informational purpose (do not run these code in colab)"
      ]
    },
    {
      "cell_type": "code",
      "metadata": {
        "id": "-kfz4H3MUW3x",
        "colab_type": "code",
        "colab": {}
      },
      "source": [
        "'''\n",
        "# general parameters\n",
        "participants = 40\n",
        "sampling = 128 #Hz\n",
        "init_time = 5 #s\n",
        "clip_time = 20 #s\n",
        "# 5s with sampling 128Hz is 128*5 samples\n",
        "init_interval = sampling * init_time\n",
        "# 20s with sampling 128Hz is 128*20 samples\n",
        "clip_interval = sampling * clip_time\n",
        "# number of clips per consequtive films\n",
        "clips = [6, 4, 7, 5, 8, 5, 7, 5, 9, 5, 5, 6, 7, 4, 6, 5]\n",
        "# arousal of consequtive films\n",
        "arousal = [0, 0, 0, 0, 0, 0, 0, 1, 1, 1, 1, 1, 1, 0, 1, 1]\n",
        "# valence of consequtive films\n",
        "valence = [1, 1, 0, 1, 0, 0, 0, 0, 0, 0, 0, 1, 1, 1, 1, 1]\n",
        "max_clips = max(clips)\n",
        "intervals_list = [init_interval]\n",
        "# intervals list creation -> list with number of samples, which occurs every clip_time\n",
        "# first sample on the list corresponds to init_interval time\n",
        "for i in range(max_clips-2):\n",
        "    intervals_list.append(intervals_list[-1]+clip_interval)\n",
        "\n",
        "for i in range(participants):\n",
        "    # prepare filename for (i+1)th participant\n",
        "    filename_mat = 'Data_Preprocessed_P0' + str(i+1) + '.mat' if i<9 else 'Data_Preprocessed_P' + str(i+1) + '.mat'\n",
        "    filename_pickle = 'Data_Preprocessed_P0' + str(i+1) + '_dict.p' if i<9 else 'Data_Preprocessed_P' + str(i+1) + '_dict.p'\n",
        "    \n",
        "    # read matlab file with filename\n",
        "    Data_Preprocessed = loadmat(filename_mat)\n",
        "    print(i+1)\n",
        "    print(type(Data_Preprocessed))\n",
        "    print(Data_Preprocessed.keys(), \"\\n\")\n",
        "    \n",
        "    # initialize variables\n",
        "    Data_Preprocessed_ECG = []\n",
        "    Data_Preprocessed_ECG_labels = []\n",
        "    Data_Preprocessed_dict = {}\n",
        "    \n",
        "    # fill list with data by cutting signal in samples from intervals list\n",
        "    # Data_Preprocessed_ECG contains signal fragment with duration of clip_time\n",
        "    # Data_Preprocessed_ECG_labels contains labels for consequtive signal fragment in a form of list [arousal, valence]\n",
        "    # 1 for HIGH arousal/valence and 0 for LOW arousal/valence\n",
        "    for i, c, a, v in zip(Data_Preprocessed['joined_data'][0], clips, arousal, valence):\n",
        "        for j in range(c-2):\n",
        "            Data_Preprocessed_ECG.append(i.T[14][intervals_list[j]:intervals_list[j+1]])\n",
        "            Data_Preprocessed_ECG_labels.append([a, v])\n",
        "    \n",
        "    # pack data to dictionary\n",
        "    Data_Preprocessed_dict['Data_Preprocessed_ECG'] = Data_Preprocessed_ECG\n",
        "    Data_Preprocessed_dict['Data_Preprocessed_ECG_labels'] = Data_Preprocessed_ECG_labels  \n",
        "        \n",
        "    pickle.dump( Data_Preprocessed_dict, open( filename_pickle, \"wb\" ) )\n",
        "    Data_Preprocessed_dict = pickle.load( open( filename_pickle, \"rb\" ) )\n",
        "\n",
        "    print(len(Data_Preprocessed_dict['Data_Preprocessed_ECG']))\n",
        "'''"
      ],
      "execution_count": null,
      "outputs": []
    },
    {
      "cell_type": "markdown",
      "metadata": {
        "id": "lLbg-vRfV787",
        "colab_type": "text"
      },
      "source": [
        "Loading data files from github repositiory.\n",
        "It takes some times, do not run, if not needed)."
      ]
    },
    {
      "cell_type": "code",
      "metadata": {
        "id": "eioJFdVDWQm1",
        "colab_type": "code",
        "colab": {
          "base_uri": "https://localhost:8080/",
          "height": 1000
        },
        "outputId": "21374685-5a33-4c5c-bae3-e2a306bb44bb"
      },
      "source": [
        "# number of participants\n",
        "participants = 40\n",
        "# initialize variable with signals\n",
        "Data_Preprocessed_ECG = []\n",
        "# initialize variable with labels\n",
        "Data_Preprocessed_ECG_labels = []\n",
        "\n",
        "for i in range(participants):\n",
        "    # prepare filename for (i+1)th participant\n",
        "    filename_pickle = 'Data_Preprocessed_P0' + str(i+1) + '_dict_GSR.p' if i<9 else 'Data_Preprocessed_P' + str(i+1) + '_dict_GSR.p'\n",
        "\n",
        "    # download file from github\n",
        "    # raw=true is important so you download the file rather than the webpage\n",
        "    link = \"https://github.com/katarzynapi/emotion_recognition/blob/master/GSR/\" + filename_pickle + \"?raw=true\"\n",
        "    !wget \"$link\" -O \"$filename_pickle\"\n",
        "    # rename the file\n",
        "    #path = filename_pickle + \"\\?raw\\=true\"\n",
        "    #!mv \"$path\" \"$filename_pickle\"\n",
        "    # deserialize variable\n",
        "    Data_Preprocessed_dict = pickle.load(open( filename_pickle, \"rb\" ))\n",
        "\n",
        "    # append new data to dataset\n",
        "    Data_Preprocessed_ECG += Data_Preprocessed_dict['Data_Preprocessed_ECG']\n",
        "    Data_Preprocessed_ECG_labels += Data_Preprocessed_dict['Data_Preprocessed_ECG_labels']\n",
        "\n",
        "    # list of 20sec signals for the (i+1)th participant\n",
        "    print(i+1)\n",
        "    print('Data_Preprocessed_ECG: ', len(Data_Preprocessed_dict['Data_Preprocessed_ECG']))\n",
        "    # list of arousal and valence labels corresponding to signals from the list above\n",
        "    # list elements are the following [a, v]\n",
        "    # 0 - LOW, 1 - HIGH\n",
        "    print('Data_Preprocessed_ECG_labels: ', len(Data_Preprocessed_dict['Data_Preprocessed_ECG_labels']))"
      ],
      "execution_count": null,
      "outputs": [
        {
          "output_type": "stream",
          "text": [
            "--2020-08-16 12:34:57--  https://github.com/katarzynapi/emotion_recognition/blob/master/GSR/Data_Preprocessed_P01_dict_GSR.p?raw=true\n",
            "Resolving github.com (github.com)... 13.229.188.59\n",
            "Connecting to github.com (github.com)|13.229.188.59|:443... connected.\n",
            "HTTP request sent, awaiting response... 302 Found\n",
            "Location: https://github.com/katarzynapi/emotion_recognition/raw/master/GSR/Data_Preprocessed_P01_dict_GSR.p [following]\n",
            "--2020-08-16 12:34:58--  https://github.com/katarzynapi/emotion_recognition/raw/master/GSR/Data_Preprocessed_P01_dict_GSR.p\n",
            "Reusing existing connection to github.com:443.\n",
            "HTTP request sent, awaiting response... 302 Found\n",
            "Location: https://raw.githubusercontent.com/katarzynapi/emotion_recognition/master/GSR/Data_Preprocessed_P01_dict_GSR.p [following]\n",
            "--2020-08-16 12:34:58--  https://raw.githubusercontent.com/katarzynapi/emotion_recognition/master/GSR/Data_Preprocessed_P01_dict_GSR.p\n",
            "Resolving raw.githubusercontent.com (raw.githubusercontent.com)... 151.101.0.133, 151.101.64.133, 151.101.128.133, ...\n",
            "Connecting to raw.githubusercontent.com (raw.githubusercontent.com)|151.101.0.133|:443... connected.\n",
            "HTTP request sent, awaiting response... 200 OK\n",
            "Length: 1273571 (1.2M) [application/octet-stream]\n",
            "Saving to: ‘Data_Preprocessed_P01_dict_GSR.p’\n",
            "\n",
            "Data_Preprocessed_P 100%[===================>]   1.21M  --.-KB/s    in 0.03s   \n",
            "\n",
            "2020-08-16 12:34:59 (46.7 MB/s) - ‘Data_Preprocessed_P01_dict_GSR.p’ saved [1273571/1273571]\n",
            "\n",
            "1\n",
            "Data_Preprocessed_ECG:  62\n",
            "Data_Preprocessed_ECG_labels:  62\n",
            "--2020-08-16 12:35:01--  https://github.com/katarzynapi/emotion_recognition/blob/master/GSR/Data_Preprocessed_P02_dict_GSR.p?raw=true\n",
            "Resolving github.com (github.com)... 13.250.177.223\n",
            "Connecting to github.com (github.com)|13.250.177.223|:443... connected.\n",
            "HTTP request sent, awaiting response... 302 Found\n",
            "Location: https://github.com/katarzynapi/emotion_recognition/raw/master/GSR/Data_Preprocessed_P02_dict_GSR.p [following]\n",
            "--2020-08-16 12:35:01--  https://github.com/katarzynapi/emotion_recognition/raw/master/GSR/Data_Preprocessed_P02_dict_GSR.p\n",
            "Reusing existing connection to github.com:443.\n",
            "HTTP request sent, awaiting response... 302 Found\n",
            "Location: https://raw.githubusercontent.com/katarzynapi/emotion_recognition/master/GSR/Data_Preprocessed_P02_dict_GSR.p [following]\n",
            "--2020-08-16 12:35:02--  https://raw.githubusercontent.com/katarzynapi/emotion_recognition/master/GSR/Data_Preprocessed_P02_dict_GSR.p\n",
            "Resolving raw.githubusercontent.com (raw.githubusercontent.com)... 151.101.0.133, 151.101.64.133, 151.101.128.133, ...\n",
            "Connecting to raw.githubusercontent.com (raw.githubusercontent.com)|151.101.0.133|:443... connected.\n",
            "HTTP request sent, awaiting response... 200 OK\n",
            "Length: 1273571 (1.2M) [application/octet-stream]\n",
            "Saving to: ‘Data_Preprocessed_P02_dict_GSR.p’\n",
            "\n",
            "Data_Preprocessed_P 100%[===================>]   1.21M  --.-KB/s    in 0.02s   \n",
            "\n",
            "2020-08-16 12:35:04 (75.6 MB/s) - ‘Data_Preprocessed_P02_dict_GSR.p’ saved [1273571/1273571]\n",
            "\n",
            "2\n",
            "Data_Preprocessed_ECG:  62\n",
            "Data_Preprocessed_ECG_labels:  62\n",
            "--2020-08-16 12:35:07--  https://github.com/katarzynapi/emotion_recognition/blob/master/GSR/Data_Preprocessed_P03_dict_GSR.p?raw=true\n",
            "Resolving github.com (github.com)... 52.74.223.119\n",
            "Connecting to github.com (github.com)|52.74.223.119|:443... connected.\n",
            "HTTP request sent, awaiting response... 302 Found\n",
            "Location: https://github.com/katarzynapi/emotion_recognition/raw/master/GSR/Data_Preprocessed_P03_dict_GSR.p [following]\n",
            "--2020-08-16 12:35:07--  https://github.com/katarzynapi/emotion_recognition/raw/master/GSR/Data_Preprocessed_P03_dict_GSR.p\n",
            "Reusing existing connection to github.com:443.\n",
            "HTTP request sent, awaiting response... 302 Found\n",
            "Location: https://raw.githubusercontent.com/katarzynapi/emotion_recognition/master/GSR/Data_Preprocessed_P03_dict_GSR.p [following]\n",
            "--2020-08-16 12:35:08--  https://raw.githubusercontent.com/katarzynapi/emotion_recognition/master/GSR/Data_Preprocessed_P03_dict_GSR.p\n",
            "Resolving raw.githubusercontent.com (raw.githubusercontent.com)... 151.101.0.133, 151.101.64.133, 151.101.128.133, ...\n",
            "Connecting to raw.githubusercontent.com (raw.githubusercontent.com)|151.101.0.133|:443... connected.\n",
            "HTTP request sent, awaiting response... 200 OK\n",
            "Length: 1273571 (1.2M) [application/octet-stream]\n",
            "Saving to: ‘Data_Preprocessed_P03_dict_GSR.p’\n",
            "\n",
            "Data_Preprocessed_P 100%[===================>]   1.21M  --.-KB/s    in 0.03s   \n",
            "\n",
            "2020-08-16 12:35:09 (48.1 MB/s) - ‘Data_Preprocessed_P03_dict_GSR.p’ saved [1273571/1273571]\n",
            "\n",
            "3\n",
            "Data_Preprocessed_ECG:  62\n",
            "Data_Preprocessed_ECG_labels:  62\n",
            "--2020-08-16 12:35:12--  https://github.com/katarzynapi/emotion_recognition/blob/master/GSR/Data_Preprocessed_P04_dict_GSR.p?raw=true\n",
            "Resolving github.com (github.com)... 52.74.223.119\n",
            "Connecting to github.com (github.com)|52.74.223.119|:443... connected.\n",
            "HTTP request sent, awaiting response... 302 Found\n",
            "Location: https://github.com/katarzynapi/emotion_recognition/raw/master/GSR/Data_Preprocessed_P04_dict_GSR.p [following]\n",
            "--2020-08-16 12:35:12--  https://github.com/katarzynapi/emotion_recognition/raw/master/GSR/Data_Preprocessed_P04_dict_GSR.p\n",
            "Reusing existing connection to github.com:443.\n",
            "HTTP request sent, awaiting response... 302 Found\n",
            "Location: https://raw.githubusercontent.com/katarzynapi/emotion_recognition/master/GSR/Data_Preprocessed_P04_dict_GSR.p [following]\n",
            "--2020-08-16 12:35:12--  https://raw.githubusercontent.com/katarzynapi/emotion_recognition/master/GSR/Data_Preprocessed_P04_dict_GSR.p\n",
            "Resolving raw.githubusercontent.com (raw.githubusercontent.com)... 151.101.0.133, 151.101.64.133, 151.101.128.133, ...\n",
            "Connecting to raw.githubusercontent.com (raw.githubusercontent.com)|151.101.0.133|:443... connected.\n",
            "HTTP request sent, awaiting response... 200 OK\n",
            "Length: 1273571 (1.2M) [application/octet-stream]\n",
            "Saving to: ‘Data_Preprocessed_P04_dict_GSR.p’\n",
            "\n",
            "Data_Preprocessed_P 100%[===================>]   1.21M  --.-KB/s    in 0.02s   \n",
            "\n",
            "2020-08-16 12:35:14 (70.4 MB/s) - ‘Data_Preprocessed_P04_dict_GSR.p’ saved [1273571/1273571]\n",
            "\n",
            "4\n",
            "Data_Preprocessed_ECG:  62\n",
            "Data_Preprocessed_ECG_labels:  62\n",
            "--2020-08-16 12:35:17--  https://github.com/katarzynapi/emotion_recognition/blob/master/GSR/Data_Preprocessed_P05_dict_GSR.p?raw=true\n",
            "Resolving github.com (github.com)... 13.250.177.223\n",
            "Connecting to github.com (github.com)|13.250.177.223|:443... connected.\n",
            "HTTP request sent, awaiting response... 302 Found\n",
            "Location: https://github.com/katarzynapi/emotion_recognition/raw/master/GSR/Data_Preprocessed_P05_dict_GSR.p [following]\n",
            "--2020-08-16 12:35:17--  https://github.com/katarzynapi/emotion_recognition/raw/master/GSR/Data_Preprocessed_P05_dict_GSR.p\n",
            "Reusing existing connection to github.com:443.\n",
            "HTTP request sent, awaiting response... 302 Found\n",
            "Location: https://raw.githubusercontent.com/katarzynapi/emotion_recognition/master/GSR/Data_Preprocessed_P05_dict_GSR.p [following]\n",
            "--2020-08-16 12:35:17--  https://raw.githubusercontent.com/katarzynapi/emotion_recognition/master/GSR/Data_Preprocessed_P05_dict_GSR.p\n",
            "Resolving raw.githubusercontent.com (raw.githubusercontent.com)... 151.101.0.133, 151.101.64.133, 151.101.128.133, ...\n",
            "Connecting to raw.githubusercontent.com (raw.githubusercontent.com)|151.101.0.133|:443... connected.\n",
            "HTTP request sent, awaiting response... 200 OK\n",
            "Length: 1273571 (1.2M) [application/octet-stream]\n",
            "Saving to: ‘Data_Preprocessed_P05_dict_GSR.p’\n",
            "\n",
            "Data_Preprocessed_P 100%[===================>]   1.21M  --.-KB/s    in 0.02s   \n",
            "\n",
            "2020-08-16 12:35:18 (67.2 MB/s) - ‘Data_Preprocessed_P05_dict_GSR.p’ saved [1273571/1273571]\n",
            "\n",
            "5\n",
            "Data_Preprocessed_ECG:  62\n",
            "Data_Preprocessed_ECG_labels:  62\n",
            "--2020-08-16 12:35:20--  https://github.com/katarzynapi/emotion_recognition/blob/master/GSR/Data_Preprocessed_P06_dict_GSR.p?raw=true\n",
            "Resolving github.com (github.com)... 13.250.177.223\n",
            "Connecting to github.com (github.com)|13.250.177.223|:443... connected.\n",
            "HTTP request sent, awaiting response... 302 Found\n",
            "Location: https://github.com/katarzynapi/emotion_recognition/raw/master/GSR/Data_Preprocessed_P06_dict_GSR.p [following]\n",
            "--2020-08-16 12:35:21--  https://github.com/katarzynapi/emotion_recognition/raw/master/GSR/Data_Preprocessed_P06_dict_GSR.p\n",
            "Reusing existing connection to github.com:443.\n",
            "HTTP request sent, awaiting response... 302 Found\n",
            "Location: https://raw.githubusercontent.com/katarzynapi/emotion_recognition/master/GSR/Data_Preprocessed_P06_dict_GSR.p [following]\n",
            "--2020-08-16 12:35:21--  https://raw.githubusercontent.com/katarzynapi/emotion_recognition/master/GSR/Data_Preprocessed_P06_dict_GSR.p\n",
            "Resolving raw.githubusercontent.com (raw.githubusercontent.com)... 151.101.0.133, 151.101.64.133, 151.101.128.133, ...\n",
            "Connecting to raw.githubusercontent.com (raw.githubusercontent.com)|151.101.0.133|:443... connected.\n",
            "HTTP request sent, awaiting response... 200 OK\n",
            "Length: 1273571 (1.2M) [application/octet-stream]\n",
            "Saving to: ‘Data_Preprocessed_P06_dict_GSR.p’\n",
            "\n",
            "Data_Preprocessed_P 100%[===================>]   1.21M  --.-KB/s    in 0.03s   \n",
            "\n",
            "2020-08-16 12:35:22 (39.3 MB/s) - ‘Data_Preprocessed_P06_dict_GSR.p’ saved [1273571/1273571]\n",
            "\n",
            "6\n",
            "Data_Preprocessed_ECG:  62\n",
            "Data_Preprocessed_ECG_labels:  62\n",
            "--2020-08-16 12:35:24--  https://github.com/katarzynapi/emotion_recognition/blob/master/GSR/Data_Preprocessed_P07_dict_GSR.p?raw=true\n",
            "Resolving github.com (github.com)... 52.74.223.119\n",
            "Connecting to github.com (github.com)|52.74.223.119|:443... connected.\n",
            "HTTP request sent, awaiting response... 302 Found\n",
            "Location: https://github.com/katarzynapi/emotion_recognition/raw/master/GSR/Data_Preprocessed_P07_dict_GSR.p [following]\n",
            "--2020-08-16 12:35:24--  https://github.com/katarzynapi/emotion_recognition/raw/master/GSR/Data_Preprocessed_P07_dict_GSR.p\n",
            "Reusing existing connection to github.com:443.\n",
            "HTTP request sent, awaiting response... 302 Found\n",
            "Location: https://raw.githubusercontent.com/katarzynapi/emotion_recognition/master/GSR/Data_Preprocessed_P07_dict_GSR.p [following]\n",
            "--2020-08-16 12:35:24--  https://raw.githubusercontent.com/katarzynapi/emotion_recognition/master/GSR/Data_Preprocessed_P07_dict_GSR.p\n",
            "Resolving raw.githubusercontent.com (raw.githubusercontent.com)... 151.101.0.133, 151.101.64.133, 151.101.128.133, ...\n",
            "Connecting to raw.githubusercontent.com (raw.githubusercontent.com)|151.101.0.133|:443... connected.\n",
            "HTTP request sent, awaiting response... 200 OK\n",
            "Length: 1273571 (1.2M) [application/octet-stream]\n",
            "Saving to: ‘Data_Preprocessed_P07_dict_GSR.p’\n",
            "\n",
            "Data_Preprocessed_P 100%[===================>]   1.21M  --.-KB/s    in 0.03s   \n",
            "\n",
            "2020-08-16 12:35:25 (36.7 MB/s) - ‘Data_Preprocessed_P07_dict_GSR.p’ saved [1273571/1273571]\n",
            "\n",
            "7\n",
            "Data_Preprocessed_ECG:  62\n",
            "Data_Preprocessed_ECG_labels:  62\n",
            "--2020-08-16 12:35:26--  https://github.com/katarzynapi/emotion_recognition/blob/master/GSR/Data_Preprocessed_P08_dict_GSR.p?raw=true\n",
            "Resolving github.com (github.com)... 13.229.188.59\n",
            "Connecting to github.com (github.com)|13.229.188.59|:443... connected.\n",
            "HTTP request sent, awaiting response... 302 Found\n",
            "Location: https://github.com/katarzynapi/emotion_recognition/raw/master/GSR/Data_Preprocessed_P08_dict_GSR.p [following]\n",
            "--2020-08-16 12:35:27--  https://github.com/katarzynapi/emotion_recognition/raw/master/GSR/Data_Preprocessed_P08_dict_GSR.p\n",
            "Reusing existing connection to github.com:443.\n",
            "HTTP request sent, awaiting response... 302 Found\n",
            "Location: https://raw.githubusercontent.com/katarzynapi/emotion_recognition/master/GSR/Data_Preprocessed_P08_dict_GSR.p [following]\n",
            "--2020-08-16 12:35:27--  https://raw.githubusercontent.com/katarzynapi/emotion_recognition/master/GSR/Data_Preprocessed_P08_dict_GSR.p\n",
            "Resolving raw.githubusercontent.com (raw.githubusercontent.com)... 151.101.0.133, 151.101.64.133, 151.101.128.133, ...\n",
            "Connecting to raw.githubusercontent.com (raw.githubusercontent.com)|151.101.0.133|:443... connected.\n",
            "HTTP request sent, awaiting response... 200 OK\n",
            "Length: 1273571 (1.2M) [application/octet-stream]\n",
            "Saving to: ‘Data_Preprocessed_P08_dict_GSR.p’\n",
            "\n",
            "Data_Preprocessed_P 100%[===================>]   1.21M  --.-KB/s    in 0.03s   \n",
            "\n",
            "2020-08-16 12:35:28 (46.0 MB/s) - ‘Data_Preprocessed_P08_dict_GSR.p’ saved [1273571/1273571]\n",
            "\n",
            "8\n",
            "Data_Preprocessed_ECG:  62\n",
            "Data_Preprocessed_ECG_labels:  62\n",
            "--2020-08-16 12:35:29--  https://github.com/katarzynapi/emotion_recognition/blob/master/GSR/Data_Preprocessed_P09_dict_GSR.p?raw=true\n",
            "Resolving github.com (github.com)... 13.250.177.223\n",
            "Connecting to github.com (github.com)|13.250.177.223|:443... connected.\n",
            "HTTP request sent, awaiting response... 302 Found\n",
            "Location: https://github.com/katarzynapi/emotion_recognition/raw/master/GSR/Data_Preprocessed_P09_dict_GSR.p [following]\n",
            "--2020-08-16 12:35:30--  https://github.com/katarzynapi/emotion_recognition/raw/master/GSR/Data_Preprocessed_P09_dict_GSR.p\n",
            "Reusing existing connection to github.com:443.\n",
            "HTTP request sent, awaiting response... 302 Found\n",
            "Location: https://raw.githubusercontent.com/katarzynapi/emotion_recognition/master/GSR/Data_Preprocessed_P09_dict_GSR.p [following]\n",
            "--2020-08-16 12:35:31--  https://raw.githubusercontent.com/katarzynapi/emotion_recognition/master/GSR/Data_Preprocessed_P09_dict_GSR.p\n",
            "Resolving raw.githubusercontent.com (raw.githubusercontent.com)... 151.101.0.133, 151.101.64.133, 151.101.128.133, ...\n",
            "Connecting to raw.githubusercontent.com (raw.githubusercontent.com)|151.101.0.133|:443... connected.\n",
            "HTTP request sent, awaiting response... 200 OK\n",
            "Length: 1273571 (1.2M) [application/octet-stream]\n",
            "Saving to: ‘Data_Preprocessed_P09_dict_GSR.p’\n",
            "\n",
            "Data_Preprocessed_P 100%[===================>]   1.21M  --.-KB/s    in 0.02s   \n",
            "\n",
            "2020-08-16 12:35:31 (70.2 MB/s) - ‘Data_Preprocessed_P09_dict_GSR.p’ saved [1273571/1273571]\n",
            "\n",
            "9\n",
            "Data_Preprocessed_ECG:  62\n",
            "Data_Preprocessed_ECG_labels:  62\n",
            "--2020-08-16 12:35:33--  https://github.com/katarzynapi/emotion_recognition/blob/master/GSR/Data_Preprocessed_P10_dict_GSR.p?raw=true\n",
            "Resolving github.com (github.com)... 13.229.188.59\n",
            "Connecting to github.com (github.com)|13.229.188.59|:443... connected.\n",
            "HTTP request sent, awaiting response... 302 Found\n",
            "Location: https://github.com/katarzynapi/emotion_recognition/raw/master/GSR/Data_Preprocessed_P10_dict_GSR.p [following]\n",
            "--2020-08-16 12:35:34--  https://github.com/katarzynapi/emotion_recognition/raw/master/GSR/Data_Preprocessed_P10_dict_GSR.p\n",
            "Reusing existing connection to github.com:443.\n",
            "HTTP request sent, awaiting response... 302 Found\n",
            "Location: https://raw.githubusercontent.com/katarzynapi/emotion_recognition/master/GSR/Data_Preprocessed_P10_dict_GSR.p [following]\n",
            "--2020-08-16 12:35:34--  https://raw.githubusercontent.com/katarzynapi/emotion_recognition/master/GSR/Data_Preprocessed_P10_dict_GSR.p\n",
            "Resolving raw.githubusercontent.com (raw.githubusercontent.com)... 151.101.0.133, 151.101.64.133, 151.101.128.133, ...\n",
            "Connecting to raw.githubusercontent.com (raw.githubusercontent.com)|151.101.0.133|:443... connected.\n",
            "HTTP request sent, awaiting response... 200 OK\n",
            "Length: 1273571 (1.2M) [application/octet-stream]\n",
            "Saving to: ‘Data_Preprocessed_P10_dict_GSR.p’\n",
            "\n",
            "Data_Preprocessed_P 100%[===================>]   1.21M  --.-KB/s    in 0.02s   \n",
            "\n",
            "2020-08-16 12:35:34 (50.8 MB/s) - ‘Data_Preprocessed_P10_dict_GSR.p’ saved [1273571/1273571]\n",
            "\n",
            "10\n",
            "Data_Preprocessed_ECG:  62\n",
            "Data_Preprocessed_ECG_labels:  62\n",
            "--2020-08-16 12:35:37--  https://github.com/katarzynapi/emotion_recognition/blob/master/GSR/Data_Preprocessed_P11_dict_GSR.p?raw=true\n",
            "Resolving github.com (github.com)... 52.74.223.119\n",
            "Connecting to github.com (github.com)|52.74.223.119|:443... connected.\n",
            "HTTP request sent, awaiting response... 302 Found\n",
            "Location: https://github.com/katarzynapi/emotion_recognition/raw/master/GSR/Data_Preprocessed_P11_dict_GSR.p [following]\n",
            "--2020-08-16 12:35:37--  https://github.com/katarzynapi/emotion_recognition/raw/master/GSR/Data_Preprocessed_P11_dict_GSR.p\n",
            "Reusing existing connection to github.com:443.\n",
            "HTTP request sent, awaiting response... 302 Found\n",
            "Location: https://raw.githubusercontent.com/katarzynapi/emotion_recognition/master/GSR/Data_Preprocessed_P11_dict_GSR.p [following]\n",
            "--2020-08-16 12:35:37--  https://raw.githubusercontent.com/katarzynapi/emotion_recognition/master/GSR/Data_Preprocessed_P11_dict_GSR.p\n",
            "Resolving raw.githubusercontent.com (raw.githubusercontent.com)... 151.101.0.133, 151.101.64.133, 151.101.128.133, ...\n",
            "Connecting to raw.githubusercontent.com (raw.githubusercontent.com)|151.101.0.133|:443... connected.\n",
            "HTTP request sent, awaiting response... 200 OK\n",
            "Length: 1273571 (1.2M) [application/octet-stream]\n",
            "Saving to: ‘Data_Preprocessed_P11_dict_GSR.p’\n",
            "\n",
            "Data_Preprocessed_P 100%[===================>]   1.21M  --.-KB/s    in 0.02s   \n",
            "\n",
            "2020-08-16 12:35:38 (77.1 MB/s) - ‘Data_Preprocessed_P11_dict_GSR.p’ saved [1273571/1273571]\n",
            "\n",
            "11\n",
            "Data_Preprocessed_ECG:  62\n",
            "Data_Preprocessed_ECG_labels:  62\n",
            "--2020-08-16 12:35:41--  https://github.com/katarzynapi/emotion_recognition/blob/master/GSR/Data_Preprocessed_P12_dict_GSR.p?raw=true\n",
            "Resolving github.com (github.com)... 13.250.177.223\n",
            "Connecting to github.com (github.com)|13.250.177.223|:443... connected.\n",
            "HTTP request sent, awaiting response... 302 Found\n",
            "Location: https://github.com/katarzynapi/emotion_recognition/raw/master/GSR/Data_Preprocessed_P12_dict_GSR.p [following]\n",
            "--2020-08-16 12:35:41--  https://github.com/katarzynapi/emotion_recognition/raw/master/GSR/Data_Preprocessed_P12_dict_GSR.p\n",
            "Reusing existing connection to github.com:443.\n",
            "HTTP request sent, awaiting response... 302 Found\n",
            "Location: https://raw.githubusercontent.com/katarzynapi/emotion_recognition/master/GSR/Data_Preprocessed_P12_dict_GSR.p [following]\n",
            "--2020-08-16 12:35:42--  https://raw.githubusercontent.com/katarzynapi/emotion_recognition/master/GSR/Data_Preprocessed_P12_dict_GSR.p\n",
            "Resolving raw.githubusercontent.com (raw.githubusercontent.com)... 151.101.0.133, 151.101.64.133, 151.101.128.133, ...\n",
            "Connecting to raw.githubusercontent.com (raw.githubusercontent.com)|151.101.0.133|:443... connected.\n",
            "HTTP request sent, awaiting response... 200 OK\n",
            "Length: 1273571 (1.2M) [application/octet-stream]\n",
            "Saving to: ‘Data_Preprocessed_P12_dict_GSR.p’\n",
            "\n",
            "Data_Preprocessed_P 100%[===================>]   1.21M  --.-KB/s    in 0.02s   \n",
            "\n",
            "2020-08-16 12:35:42 (49.8 MB/s) - ‘Data_Preprocessed_P12_dict_GSR.p’ saved [1273571/1273571]\n",
            "\n",
            "12\n",
            "Data_Preprocessed_ECG:  62\n",
            "Data_Preprocessed_ECG_labels:  62\n",
            "--2020-08-16 12:35:44--  https://github.com/katarzynapi/emotion_recognition/blob/master/GSR/Data_Preprocessed_P13_dict_GSR.p?raw=true\n",
            "Resolving github.com (github.com)... 13.250.177.223\n",
            "Connecting to github.com (github.com)|13.250.177.223|:443... connected.\n",
            "HTTP request sent, awaiting response... 302 Found\n",
            "Location: https://github.com/katarzynapi/emotion_recognition/raw/master/GSR/Data_Preprocessed_P13_dict_GSR.p [following]\n",
            "--2020-08-16 12:35:45--  https://github.com/katarzynapi/emotion_recognition/raw/master/GSR/Data_Preprocessed_P13_dict_GSR.p\n",
            "Reusing existing connection to github.com:443.\n",
            "HTTP request sent, awaiting response... 302 Found\n",
            "Location: https://raw.githubusercontent.com/katarzynapi/emotion_recognition/master/GSR/Data_Preprocessed_P13_dict_GSR.p [following]\n",
            "--2020-08-16 12:35:45--  https://raw.githubusercontent.com/katarzynapi/emotion_recognition/master/GSR/Data_Preprocessed_P13_dict_GSR.p\n",
            "Resolving raw.githubusercontent.com (raw.githubusercontent.com)... 151.101.0.133, 151.101.64.133, 151.101.128.133, ...\n",
            "Connecting to raw.githubusercontent.com (raw.githubusercontent.com)|151.101.0.133|:443... connected.\n",
            "HTTP request sent, awaiting response... 200 OK\n",
            "Length: 1273571 (1.2M) [application/octet-stream]\n",
            "Saving to: ‘Data_Preprocessed_P13_dict_GSR.p’\n",
            "\n",
            "Data_Preprocessed_P 100%[===================>]   1.21M  --.-KB/s    in 0.03s   \n",
            "\n",
            "2020-08-16 12:35:46 (36.5 MB/s) - ‘Data_Preprocessed_P13_dict_GSR.p’ saved [1273571/1273571]\n",
            "\n",
            "13\n",
            "Data_Preprocessed_ECG:  62\n",
            "Data_Preprocessed_ECG_labels:  62\n",
            "--2020-08-16 12:35:48--  https://github.com/katarzynapi/emotion_recognition/blob/master/GSR/Data_Preprocessed_P14_dict_GSR.p?raw=true\n",
            "Resolving github.com (github.com)... 52.74.223.119\n",
            "Connecting to github.com (github.com)|52.74.223.119|:443... connected.\n",
            "HTTP request sent, awaiting response... 302 Found\n",
            "Location: https://github.com/katarzynapi/emotion_recognition/raw/master/GSR/Data_Preprocessed_P14_dict_GSR.p [following]\n",
            "--2020-08-16 12:35:48--  https://github.com/katarzynapi/emotion_recognition/raw/master/GSR/Data_Preprocessed_P14_dict_GSR.p\n",
            "Reusing existing connection to github.com:443.\n",
            "HTTP request sent, awaiting response... 302 Found\n",
            "Location: https://raw.githubusercontent.com/katarzynapi/emotion_recognition/master/GSR/Data_Preprocessed_P14_dict_GSR.p [following]\n",
            "--2020-08-16 12:35:49--  https://raw.githubusercontent.com/katarzynapi/emotion_recognition/master/GSR/Data_Preprocessed_P14_dict_GSR.p\n",
            "Resolving raw.githubusercontent.com (raw.githubusercontent.com)... 151.101.0.133, 151.101.64.133, 151.101.128.133, ...\n",
            "Connecting to raw.githubusercontent.com (raw.githubusercontent.com)|151.101.0.133|:443... connected.\n",
            "HTTP request sent, awaiting response... 200 OK\n",
            "Length: 1273571 (1.2M) [application/octet-stream]\n",
            "Saving to: ‘Data_Preprocessed_P14_dict_GSR.p’\n",
            "\n",
            "Data_Preprocessed_P 100%[===================>]   1.21M  --.-KB/s    in 0.01s   \n",
            "\n",
            "2020-08-16 12:35:49 (112 MB/s) - ‘Data_Preprocessed_P14_dict_GSR.p’ saved [1273571/1273571]\n",
            "\n",
            "14\n",
            "Data_Preprocessed_ECG:  62\n",
            "Data_Preprocessed_ECG_labels:  62\n",
            "--2020-08-16 12:35:52--  https://github.com/katarzynapi/emotion_recognition/blob/master/GSR/Data_Preprocessed_P15_dict_GSR.p?raw=true\n",
            "Resolving github.com (github.com)... 13.250.177.223\n",
            "Connecting to github.com (github.com)|13.250.177.223|:443... connected.\n",
            "HTTP request sent, awaiting response... 302 Found\n",
            "Location: https://github.com/katarzynapi/emotion_recognition/raw/master/GSR/Data_Preprocessed_P15_dict_GSR.p [following]\n",
            "--2020-08-16 12:35:53--  https://github.com/katarzynapi/emotion_recognition/raw/master/GSR/Data_Preprocessed_P15_dict_GSR.p\n",
            "Reusing existing connection to github.com:443.\n",
            "HTTP request sent, awaiting response... 302 Found\n",
            "Location: https://raw.githubusercontent.com/katarzynapi/emotion_recognition/master/GSR/Data_Preprocessed_P15_dict_GSR.p [following]\n",
            "--2020-08-16 12:35:53--  https://raw.githubusercontent.com/katarzynapi/emotion_recognition/master/GSR/Data_Preprocessed_P15_dict_GSR.p\n",
            "Resolving raw.githubusercontent.com (raw.githubusercontent.com)... 151.101.0.133, 151.101.64.133, 151.101.128.133, ...\n",
            "Connecting to raw.githubusercontent.com (raw.githubusercontent.com)|151.101.0.133|:443... connected.\n",
            "HTTP request sent, awaiting response... 200 OK\n",
            "Length: 1273571 (1.2M) [application/octet-stream]\n",
            "Saving to: ‘Data_Preprocessed_P15_dict_GSR.p’\n",
            "\n",
            "Data_Preprocessed_P 100%[===================>]   1.21M  --.-KB/s    in 0.02s   \n",
            "\n",
            "2020-08-16 12:35:54 (63.5 MB/s) - ‘Data_Preprocessed_P15_dict_GSR.p’ saved [1273571/1273571]\n",
            "\n",
            "15\n",
            "Data_Preprocessed_ECG:  62\n",
            "Data_Preprocessed_ECG_labels:  62\n",
            "--2020-08-16 12:35:56--  https://github.com/katarzynapi/emotion_recognition/blob/master/GSR/Data_Preprocessed_P16_dict_GSR.p?raw=true\n",
            "Resolving github.com (github.com)... 13.229.188.59\n",
            "Connecting to github.com (github.com)|13.229.188.59|:443... connected.\n",
            "HTTP request sent, awaiting response... 302 Found\n",
            "Location: https://github.com/katarzynapi/emotion_recognition/raw/master/GSR/Data_Preprocessed_P16_dict_GSR.p [following]\n",
            "--2020-08-16 12:35:56--  https://github.com/katarzynapi/emotion_recognition/raw/master/GSR/Data_Preprocessed_P16_dict_GSR.p\n",
            "Reusing existing connection to github.com:443.\n",
            "HTTP request sent, awaiting response... 302 Found\n",
            "Location: https://raw.githubusercontent.com/katarzynapi/emotion_recognition/master/GSR/Data_Preprocessed_P16_dict_GSR.p [following]\n",
            "--2020-08-16 12:35:57--  https://raw.githubusercontent.com/katarzynapi/emotion_recognition/master/GSR/Data_Preprocessed_P16_dict_GSR.p\n",
            "Resolving raw.githubusercontent.com (raw.githubusercontent.com)... 151.101.0.133, 151.101.64.133, 151.101.128.133, ...\n",
            "Connecting to raw.githubusercontent.com (raw.githubusercontent.com)|151.101.0.133|:443... connected.\n",
            "HTTP request sent, awaiting response... 200 OK\n",
            "Length: 1273571 (1.2M) [application/octet-stream]\n",
            "Saving to: ‘Data_Preprocessed_P16_dict_GSR.p’\n",
            "\n",
            "Data_Preprocessed_P 100%[===================>]   1.21M  --.-KB/s    in 0.02s   \n",
            "\n",
            "2020-08-16 12:35:57 (48.9 MB/s) - ‘Data_Preprocessed_P16_dict_GSR.p’ saved [1273571/1273571]\n",
            "\n",
            "16\n",
            "Data_Preprocessed_ECG:  62\n",
            "Data_Preprocessed_ECG_labels:  62\n",
            "--2020-08-16 12:35:59--  https://github.com/katarzynapi/emotion_recognition/blob/master/GSR/Data_Preprocessed_P17_dict_GSR.p?raw=true\n",
            "Resolving github.com (github.com)... 13.250.177.223\n",
            "Connecting to github.com (github.com)|13.250.177.223|:443... connected.\n",
            "HTTP request sent, awaiting response... 302 Found\n",
            "Location: https://github.com/katarzynapi/emotion_recognition/raw/master/GSR/Data_Preprocessed_P17_dict_GSR.p [following]\n",
            "--2020-08-16 12:35:59--  https://github.com/katarzynapi/emotion_recognition/raw/master/GSR/Data_Preprocessed_P17_dict_GSR.p\n",
            "Reusing existing connection to github.com:443.\n",
            "HTTP request sent, awaiting response... 302 Found\n",
            "Location: https://raw.githubusercontent.com/katarzynapi/emotion_recognition/master/GSR/Data_Preprocessed_P17_dict_GSR.p [following]\n",
            "--2020-08-16 12:36:00--  https://raw.githubusercontent.com/katarzynapi/emotion_recognition/master/GSR/Data_Preprocessed_P17_dict_GSR.p\n",
            "Resolving raw.githubusercontent.com (raw.githubusercontent.com)... 151.101.0.133, 151.101.64.133, 151.101.128.133, ...\n",
            "Connecting to raw.githubusercontent.com (raw.githubusercontent.com)|151.101.0.133|:443... connected.\n",
            "HTTP request sent, awaiting response... 200 OK\n",
            "Length: 1273571 (1.2M) [application/octet-stream]\n",
            "Saving to: ‘Data_Preprocessed_P17_dict_GSR.p’\n",
            "\n",
            "Data_Preprocessed_P 100%[===================>]   1.21M  --.-KB/s    in 0.03s   \n",
            "\n",
            "2020-08-16 12:36:01 (45.2 MB/s) - ‘Data_Preprocessed_P17_dict_GSR.p’ saved [1273571/1273571]\n",
            "\n",
            "17\n",
            "Data_Preprocessed_ECG:  62\n",
            "Data_Preprocessed_ECG_labels:  62\n",
            "--2020-08-16 12:36:03--  https://github.com/katarzynapi/emotion_recognition/blob/master/GSR/Data_Preprocessed_P18_dict_GSR.p?raw=true\n",
            "Resolving github.com (github.com)... 13.229.188.59\n",
            "Connecting to github.com (github.com)|13.229.188.59|:443... connected.\n",
            "HTTP request sent, awaiting response... 302 Found\n",
            "Location: https://github.com/katarzynapi/emotion_recognition/raw/master/GSR/Data_Preprocessed_P18_dict_GSR.p [following]\n",
            "--2020-08-16 12:36:03--  https://github.com/katarzynapi/emotion_recognition/raw/master/GSR/Data_Preprocessed_P18_dict_GSR.p\n",
            "Reusing existing connection to github.com:443.\n",
            "HTTP request sent, awaiting response... 302 Found\n",
            "Location: https://raw.githubusercontent.com/katarzynapi/emotion_recognition/master/GSR/Data_Preprocessed_P18_dict_GSR.p [following]\n",
            "--2020-08-16 12:36:04--  https://raw.githubusercontent.com/katarzynapi/emotion_recognition/master/GSR/Data_Preprocessed_P18_dict_GSR.p\n",
            "Resolving raw.githubusercontent.com (raw.githubusercontent.com)... 151.101.0.133, 151.101.64.133, 151.101.128.133, ...\n",
            "Connecting to raw.githubusercontent.com (raw.githubusercontent.com)|151.101.0.133|:443... connected.\n",
            "HTTP request sent, awaiting response... 200 OK\n",
            "Length: 1273571 (1.2M) [application/octet-stream]\n",
            "Saving to: ‘Data_Preprocessed_P18_dict_GSR.p’\n",
            "\n",
            "Data_Preprocessed_P 100%[===================>]   1.21M  --.-KB/s    in 0.02s   \n",
            "\n",
            "2020-08-16 12:36:06 (73.6 MB/s) - ‘Data_Preprocessed_P18_dict_GSR.p’ saved [1273571/1273571]\n",
            "\n",
            "18\n",
            "Data_Preprocessed_ECG:  62\n",
            "Data_Preprocessed_ECG_labels:  62\n",
            "--2020-08-16 12:36:08--  https://github.com/katarzynapi/emotion_recognition/blob/master/GSR/Data_Preprocessed_P19_dict_GSR.p?raw=true\n",
            "Resolving github.com (github.com)... 13.229.188.59\n",
            "Connecting to github.com (github.com)|13.229.188.59|:443... connected.\n",
            "HTTP request sent, awaiting response... 302 Found\n",
            "Location: https://github.com/katarzynapi/emotion_recognition/raw/master/GSR/Data_Preprocessed_P19_dict_GSR.p [following]\n",
            "--2020-08-16 12:36:08--  https://github.com/katarzynapi/emotion_recognition/raw/master/GSR/Data_Preprocessed_P19_dict_GSR.p\n",
            "Reusing existing connection to github.com:443.\n",
            "HTTP request sent, awaiting response... 302 Found\n",
            "Location: https://raw.githubusercontent.com/katarzynapi/emotion_recognition/master/GSR/Data_Preprocessed_P19_dict_GSR.p [following]\n",
            "--2020-08-16 12:36:08--  https://raw.githubusercontent.com/katarzynapi/emotion_recognition/master/GSR/Data_Preprocessed_P19_dict_GSR.p\n",
            "Resolving raw.githubusercontent.com (raw.githubusercontent.com)... 151.101.0.133, 151.101.64.133, 151.101.128.133, ...\n",
            "Connecting to raw.githubusercontent.com (raw.githubusercontent.com)|151.101.0.133|:443... connected.\n",
            "HTTP request sent, awaiting response... 200 OK\n",
            "Length: 1273571 (1.2M) [application/octet-stream]\n",
            "Saving to: ‘Data_Preprocessed_P19_dict_GSR.p’\n",
            "\n",
            "Data_Preprocessed_P 100%[===================>]   1.21M  --.-KB/s    in 0.01s   \n",
            "\n",
            "2020-08-16 12:36:09 (87.1 MB/s) - ‘Data_Preprocessed_P19_dict_GSR.p’ saved [1273571/1273571]\n",
            "\n",
            "19\n",
            "Data_Preprocessed_ECG:  62\n",
            "Data_Preprocessed_ECG_labels:  62\n",
            "--2020-08-16 12:36:11--  https://github.com/katarzynapi/emotion_recognition/blob/master/GSR/Data_Preprocessed_P20_dict_GSR.p?raw=true\n",
            "Resolving github.com (github.com)... 52.74.223.119\n",
            "Connecting to github.com (github.com)|52.74.223.119|:443... connected.\n",
            "HTTP request sent, awaiting response... 302 Found\n",
            "Location: https://github.com/katarzynapi/emotion_recognition/raw/master/GSR/Data_Preprocessed_P20_dict_GSR.p [following]\n",
            "--2020-08-16 12:36:11--  https://github.com/katarzynapi/emotion_recognition/raw/master/GSR/Data_Preprocessed_P20_dict_GSR.p\n",
            "Reusing existing connection to github.com:443.\n",
            "HTTP request sent, awaiting response... 302 Found\n",
            "Location: https://raw.githubusercontent.com/katarzynapi/emotion_recognition/master/GSR/Data_Preprocessed_P20_dict_GSR.p [following]\n",
            "--2020-08-16 12:36:11--  https://raw.githubusercontent.com/katarzynapi/emotion_recognition/master/GSR/Data_Preprocessed_P20_dict_GSR.p\n",
            "Resolving raw.githubusercontent.com (raw.githubusercontent.com)... 151.101.0.133, 151.101.64.133, 151.101.128.133, ...\n",
            "Connecting to raw.githubusercontent.com (raw.githubusercontent.com)|151.101.0.133|:443... connected.\n",
            "HTTP request sent, awaiting response... 200 OK\n",
            "Length: 1273571 (1.2M) [application/octet-stream]\n",
            "Saving to: ‘Data_Preprocessed_P20_dict_GSR.p’\n",
            "\n",
            "Data_Preprocessed_P 100%[===================>]   1.21M  --.-KB/s    in 0.02s   \n",
            "\n",
            "2020-08-16 12:36:12 (60.0 MB/s) - ‘Data_Preprocessed_P20_dict_GSR.p’ saved [1273571/1273571]\n",
            "\n",
            "20\n",
            "Data_Preprocessed_ECG:  62\n",
            "Data_Preprocessed_ECG_labels:  62\n",
            "--2020-08-16 12:36:14--  https://github.com/katarzynapi/emotion_recognition/blob/master/GSR/Data_Preprocessed_P21_dict_GSR.p?raw=true\n",
            "Resolving github.com (github.com)... 52.74.223.119\n",
            "Connecting to github.com (github.com)|52.74.223.119|:443... connected.\n",
            "HTTP request sent, awaiting response... 302 Found\n",
            "Location: https://github.com/katarzynapi/emotion_recognition/raw/master/GSR/Data_Preprocessed_P21_dict_GSR.p [following]\n",
            "--2020-08-16 12:36:14--  https://github.com/katarzynapi/emotion_recognition/raw/master/GSR/Data_Preprocessed_P21_dict_GSR.p\n",
            "Reusing existing connection to github.com:443.\n",
            "HTTP request sent, awaiting response... 302 Found\n",
            "Location: https://raw.githubusercontent.com/katarzynapi/emotion_recognition/master/GSR/Data_Preprocessed_P21_dict_GSR.p [following]\n",
            "--2020-08-16 12:36:15--  https://raw.githubusercontent.com/katarzynapi/emotion_recognition/master/GSR/Data_Preprocessed_P21_dict_GSR.p\n",
            "Resolving raw.githubusercontent.com (raw.githubusercontent.com)... 151.101.0.133, 151.101.64.133, 151.101.128.133, ...\n",
            "Connecting to raw.githubusercontent.com (raw.githubusercontent.com)|151.101.0.133|:443... connected.\n",
            "HTTP request sent, awaiting response... 200 OK\n",
            "Length: 1273571 (1.2M) [application/octet-stream]\n",
            "Saving to: ‘Data_Preprocessed_P21_dict_GSR.p’\n",
            "\n",
            "Data_Preprocessed_P 100%[===================>]   1.21M  --.-KB/s    in 0.02s   \n",
            "\n",
            "2020-08-16 12:36:15 (52.8 MB/s) - ‘Data_Preprocessed_P21_dict_GSR.p’ saved [1273571/1273571]\n",
            "\n",
            "21\n",
            "Data_Preprocessed_ECG:  62\n",
            "Data_Preprocessed_ECG_labels:  62\n",
            "--2020-08-16 12:36:18--  https://github.com/katarzynapi/emotion_recognition/blob/master/GSR/Data_Preprocessed_P22_dict_GSR.p?raw=true\n",
            "Resolving github.com (github.com)... 13.250.177.223\n",
            "Connecting to github.com (github.com)|13.250.177.223|:443... connected.\n",
            "HTTP request sent, awaiting response... 302 Found\n",
            "Location: https://github.com/katarzynapi/emotion_recognition/raw/master/GSR/Data_Preprocessed_P22_dict_GSR.p [following]\n",
            "--2020-08-16 12:36:18--  https://github.com/katarzynapi/emotion_recognition/raw/master/GSR/Data_Preprocessed_P22_dict_GSR.p\n",
            "Reusing existing connection to github.com:443.\n",
            "HTTP request sent, awaiting response... 302 Found\n",
            "Location: https://raw.githubusercontent.com/katarzynapi/emotion_recognition/master/GSR/Data_Preprocessed_P22_dict_GSR.p [following]\n",
            "--2020-08-16 12:36:18--  https://raw.githubusercontent.com/katarzynapi/emotion_recognition/master/GSR/Data_Preprocessed_P22_dict_GSR.p\n",
            "Resolving raw.githubusercontent.com (raw.githubusercontent.com)... 151.101.0.133, 151.101.64.133, 151.101.128.133, ...\n",
            "Connecting to raw.githubusercontent.com (raw.githubusercontent.com)|151.101.0.133|:443... connected.\n",
            "HTTP request sent, awaiting response... 200 OK\n",
            "Length: 1273571 (1.2M) [application/octet-stream]\n",
            "Saving to: ‘Data_Preprocessed_P22_dict_GSR.p’\n",
            "\n",
            "Data_Preprocessed_P 100%[===================>]   1.21M  --.-KB/s    in 0.02s   \n",
            "\n",
            "2020-08-16 12:36:19 (80.7 MB/s) - ‘Data_Preprocessed_P22_dict_GSR.p’ saved [1273571/1273571]\n",
            "\n",
            "22\n",
            "Data_Preprocessed_ECG:  62\n",
            "Data_Preprocessed_ECG_labels:  62\n",
            "--2020-08-16 12:36:21--  https://github.com/katarzynapi/emotion_recognition/blob/master/GSR/Data_Preprocessed_P23_dict_GSR.p?raw=true\n",
            "Resolving github.com (github.com)... 13.229.188.59\n",
            "Connecting to github.com (github.com)|13.229.188.59|:443... connected.\n",
            "HTTP request sent, awaiting response... 302 Found\n",
            "Location: https://github.com/katarzynapi/emotion_recognition/raw/master/GSR/Data_Preprocessed_P23_dict_GSR.p [following]\n",
            "--2020-08-16 12:36:22--  https://github.com/katarzynapi/emotion_recognition/raw/master/GSR/Data_Preprocessed_P23_dict_GSR.p\n",
            "Reusing existing connection to github.com:443.\n",
            "HTTP request sent, awaiting response... 302 Found\n",
            "Location: https://raw.githubusercontent.com/katarzynapi/emotion_recognition/master/GSR/Data_Preprocessed_P23_dict_GSR.p [following]\n",
            "--2020-08-16 12:36:22--  https://raw.githubusercontent.com/katarzynapi/emotion_recognition/master/GSR/Data_Preprocessed_P23_dict_GSR.p\n",
            "Resolving raw.githubusercontent.com (raw.githubusercontent.com)... 151.101.0.133, 151.101.64.133, 151.101.128.133, ...\n",
            "Connecting to raw.githubusercontent.com (raw.githubusercontent.com)|151.101.0.133|:443... connected.\n",
            "HTTP request sent, awaiting response... 200 OK\n",
            "Length: 1273571 (1.2M) [application/octet-stream]\n",
            "Saving to: ‘Data_Preprocessed_P23_dict_GSR.p’\n",
            "\n",
            "Data_Preprocessed_P 100%[===================>]   1.21M  --.-KB/s    in 0.03s   \n",
            "\n",
            "2020-08-16 12:36:23 (45.7 MB/s) - ‘Data_Preprocessed_P23_dict_GSR.p’ saved [1273571/1273571]\n",
            "\n",
            "23\n",
            "Data_Preprocessed_ECG:  62\n",
            "Data_Preprocessed_ECG_labels:  62\n",
            "--2020-08-16 12:36:25--  https://github.com/katarzynapi/emotion_recognition/blob/master/GSR/Data_Preprocessed_P24_dict_GSR.p?raw=true\n",
            "Resolving github.com (github.com)... 52.74.223.119\n",
            "Connecting to github.com (github.com)|52.74.223.119|:443... connected.\n",
            "HTTP request sent, awaiting response... 302 Found\n",
            "Location: https://github.com/katarzynapi/emotion_recognition/raw/master/GSR/Data_Preprocessed_P24_dict_GSR.p [following]\n",
            "--2020-08-16 12:36:25--  https://github.com/katarzynapi/emotion_recognition/raw/master/GSR/Data_Preprocessed_P24_dict_GSR.p\n",
            "Reusing existing connection to github.com:443.\n",
            "HTTP request sent, awaiting response... 302 Found\n",
            "Location: https://raw.githubusercontent.com/katarzynapi/emotion_recognition/master/GSR/Data_Preprocessed_P24_dict_GSR.p [following]\n",
            "--2020-08-16 12:36:25--  https://raw.githubusercontent.com/katarzynapi/emotion_recognition/master/GSR/Data_Preprocessed_P24_dict_GSR.p\n",
            "Resolving raw.githubusercontent.com (raw.githubusercontent.com)... 151.101.0.133, 151.101.64.133, 151.101.128.133, ...\n",
            "Connecting to raw.githubusercontent.com (raw.githubusercontent.com)|151.101.0.133|:443... connected.\n",
            "HTTP request sent, awaiting response... 200 OK\n",
            "Length: 1273571 (1.2M) [application/octet-stream]\n",
            "Saving to: ‘Data_Preprocessed_P24_dict_GSR.p’\n",
            "\n",
            "Data_Preprocessed_P 100%[===================>]   1.21M  --.-KB/s    in 0.03s   \n",
            "\n",
            "2020-08-16 12:36:26 (47.0 MB/s) - ‘Data_Preprocessed_P24_dict_GSR.p’ saved [1273571/1273571]\n",
            "\n",
            "24\n",
            "Data_Preprocessed_ECG:  62\n",
            "Data_Preprocessed_ECG_labels:  62\n",
            "--2020-08-16 12:36:30--  https://github.com/katarzynapi/emotion_recognition/blob/master/GSR/Data_Preprocessed_P25_dict_GSR.p?raw=true\n",
            "Resolving github.com (github.com)... 52.74.223.119\n",
            "Connecting to github.com (github.com)|52.74.223.119|:443... connected.\n",
            "HTTP request sent, awaiting response... 302 Found\n",
            "Location: https://github.com/katarzynapi/emotion_recognition/raw/master/GSR/Data_Preprocessed_P25_dict_GSR.p [following]\n",
            "--2020-08-16 12:36:31--  https://github.com/katarzynapi/emotion_recognition/raw/master/GSR/Data_Preprocessed_P25_dict_GSR.p\n",
            "Reusing existing connection to github.com:443.\n",
            "HTTP request sent, awaiting response... 302 Found\n",
            "Location: https://raw.githubusercontent.com/katarzynapi/emotion_recognition/master/GSR/Data_Preprocessed_P25_dict_GSR.p [following]\n",
            "--2020-08-16 12:36:31--  https://raw.githubusercontent.com/katarzynapi/emotion_recognition/master/GSR/Data_Preprocessed_P25_dict_GSR.p\n",
            "Resolving raw.githubusercontent.com (raw.githubusercontent.com)... 151.101.0.133, 151.101.64.133, 151.101.128.133, ...\n",
            "Connecting to raw.githubusercontent.com (raw.githubusercontent.com)|151.101.0.133|:443... connected.\n",
            "HTTP request sent, awaiting response... 200 OK\n",
            "Length: 1273571 (1.2M) [application/octet-stream]\n",
            "Saving to: ‘Data_Preprocessed_P25_dict_GSR.p’\n",
            "\n",
            "Data_Preprocessed_P 100%[===================>]   1.21M  --.-KB/s    in 0.03s   \n",
            "\n",
            "2020-08-16 12:36:33 (45.8 MB/s) - ‘Data_Preprocessed_P25_dict_GSR.p’ saved [1273571/1273571]\n",
            "\n",
            "25\n",
            "Data_Preprocessed_ECG:  62\n",
            "Data_Preprocessed_ECG_labels:  62\n",
            "--2020-08-16 12:36:34--  https://github.com/katarzynapi/emotion_recognition/blob/master/GSR/Data_Preprocessed_P26_dict_GSR.p?raw=true\n",
            "Resolving github.com (github.com)... 52.74.223.119\n",
            "Connecting to github.com (github.com)|52.74.223.119|:443... connected.\n",
            "HTTP request sent, awaiting response... 302 Found\n",
            "Location: https://github.com/katarzynapi/emotion_recognition/raw/master/GSR/Data_Preprocessed_P26_dict_GSR.p [following]\n",
            "--2020-08-16 12:36:35--  https://github.com/katarzynapi/emotion_recognition/raw/master/GSR/Data_Preprocessed_P26_dict_GSR.p\n",
            "Reusing existing connection to github.com:443.\n",
            "HTTP request sent, awaiting response... 302 Found\n",
            "Location: https://raw.githubusercontent.com/katarzynapi/emotion_recognition/master/GSR/Data_Preprocessed_P26_dict_GSR.p [following]\n",
            "--2020-08-16 12:36:35--  https://raw.githubusercontent.com/katarzynapi/emotion_recognition/master/GSR/Data_Preprocessed_P26_dict_GSR.p\n",
            "Resolving raw.githubusercontent.com (raw.githubusercontent.com)... 151.101.0.133, 151.101.64.133, 151.101.128.133, ...\n",
            "Connecting to raw.githubusercontent.com (raw.githubusercontent.com)|151.101.0.133|:443... connected.\n",
            "HTTP request sent, awaiting response... 200 OK\n",
            "Length: 1273571 (1.2M) [application/octet-stream]\n",
            "Saving to: ‘Data_Preprocessed_P26_dict_GSR.p’\n",
            "\n",
            "Data_Preprocessed_P 100%[===================>]   1.21M  --.-KB/s    in 0.02s   \n",
            "\n",
            "2020-08-16 12:36:36 (52.4 MB/s) - ‘Data_Preprocessed_P26_dict_GSR.p’ saved [1273571/1273571]\n",
            "\n",
            "26\n",
            "Data_Preprocessed_ECG:  62\n",
            "Data_Preprocessed_ECG_labels:  62\n",
            "--2020-08-16 12:36:39--  https://github.com/katarzynapi/emotion_recognition/blob/master/GSR/Data_Preprocessed_P27_dict_GSR.p?raw=true\n",
            "Resolving github.com (github.com)... 13.229.188.59\n",
            "Connecting to github.com (github.com)|13.229.188.59|:443... connected.\n",
            "HTTP request sent, awaiting response... 302 Found\n",
            "Location: https://github.com/katarzynapi/emotion_recognition/raw/master/GSR/Data_Preprocessed_P27_dict_GSR.p [following]\n",
            "--2020-08-16 12:36:39--  https://github.com/katarzynapi/emotion_recognition/raw/master/GSR/Data_Preprocessed_P27_dict_GSR.p\n",
            "Reusing existing connection to github.com:443.\n",
            "HTTP request sent, awaiting response... 302 Found\n",
            "Location: https://raw.githubusercontent.com/katarzynapi/emotion_recognition/master/GSR/Data_Preprocessed_P27_dict_GSR.p [following]\n",
            "--2020-08-16 12:36:40--  https://raw.githubusercontent.com/katarzynapi/emotion_recognition/master/GSR/Data_Preprocessed_P27_dict_GSR.p\n",
            "Resolving raw.githubusercontent.com (raw.githubusercontent.com)... 151.101.0.133, 151.101.64.133, 151.101.128.133, ...\n",
            "Connecting to raw.githubusercontent.com (raw.githubusercontent.com)|151.101.0.133|:443... connected.\n",
            "HTTP request sent, awaiting response... 200 OK\n",
            "Length: 1273571 (1.2M) [application/octet-stream]\n",
            "Saving to: ‘Data_Preprocessed_P27_dict_GSR.p’\n",
            "\n",
            "Data_Preprocessed_P 100%[===================>]   1.21M  --.-KB/s    in 0.03s   \n",
            "\n",
            "2020-08-16 12:36:40 (48.1 MB/s) - ‘Data_Preprocessed_P27_dict_GSR.p’ saved [1273571/1273571]\n",
            "\n",
            "27\n",
            "Data_Preprocessed_ECG:  62\n",
            "Data_Preprocessed_ECG_labels:  62\n",
            "--2020-08-16 12:36:42--  https://github.com/katarzynapi/emotion_recognition/blob/master/GSR/Data_Preprocessed_P28_dict_GSR.p?raw=true\n",
            "Resolving github.com (github.com)... 13.250.177.223\n",
            "Connecting to github.com (github.com)|13.250.177.223|:443... connected.\n",
            "HTTP request sent, awaiting response... 302 Found\n",
            "Location: https://github.com/katarzynapi/emotion_recognition/raw/master/GSR/Data_Preprocessed_P28_dict_GSR.p [following]\n",
            "--2020-08-16 12:36:43--  https://github.com/katarzynapi/emotion_recognition/raw/master/GSR/Data_Preprocessed_P28_dict_GSR.p\n",
            "Reusing existing connection to github.com:443.\n",
            "HTTP request sent, awaiting response... 302 Found\n",
            "Location: https://raw.githubusercontent.com/katarzynapi/emotion_recognition/master/GSR/Data_Preprocessed_P28_dict_GSR.p [following]\n",
            "--2020-08-16 12:36:43--  https://raw.githubusercontent.com/katarzynapi/emotion_recognition/master/GSR/Data_Preprocessed_P28_dict_GSR.p\n",
            "Resolving raw.githubusercontent.com (raw.githubusercontent.com)... 151.101.0.133, 151.101.64.133, 151.101.128.133, ...\n",
            "Connecting to raw.githubusercontent.com (raw.githubusercontent.com)|151.101.0.133|:443... connected.\n",
            "HTTP request sent, awaiting response... 200 OK\n",
            "Length: 1273571 (1.2M) [application/octet-stream]\n",
            "Saving to: ‘Data_Preprocessed_P28_dict_GSR.p’\n",
            "\n",
            "Data_Preprocessed_P 100%[===================>]   1.21M  --.-KB/s    in 0.02s   \n",
            "\n",
            "2020-08-16 12:36:44 (50.6 MB/s) - ‘Data_Preprocessed_P28_dict_GSR.p’ saved [1273571/1273571]\n",
            "\n",
            "28\n",
            "Data_Preprocessed_ECG:  62\n",
            "Data_Preprocessed_ECG_labels:  62\n",
            "--2020-08-16 12:36:46--  https://github.com/katarzynapi/emotion_recognition/blob/master/GSR/Data_Preprocessed_P29_dict_GSR.p?raw=true\n",
            "Resolving github.com (github.com)... 13.250.177.223\n",
            "Connecting to github.com (github.com)|13.250.177.223|:443... connected.\n",
            "HTTP request sent, awaiting response... 302 Found\n",
            "Location: https://github.com/katarzynapi/emotion_recognition/raw/master/GSR/Data_Preprocessed_P29_dict_GSR.p [following]\n",
            "--2020-08-16 12:36:47--  https://github.com/katarzynapi/emotion_recognition/raw/master/GSR/Data_Preprocessed_P29_dict_GSR.p\n",
            "Reusing existing connection to github.com:443.\n",
            "HTTP request sent, awaiting response... 302 Found\n",
            "Location: https://raw.githubusercontent.com/katarzynapi/emotion_recognition/master/GSR/Data_Preprocessed_P29_dict_GSR.p [following]\n",
            "--2020-08-16 12:36:47--  https://raw.githubusercontent.com/katarzynapi/emotion_recognition/master/GSR/Data_Preprocessed_P29_dict_GSR.p\n",
            "Resolving raw.githubusercontent.com (raw.githubusercontent.com)... 151.101.0.133, 151.101.64.133, 151.101.128.133, ...\n",
            "Connecting to raw.githubusercontent.com (raw.githubusercontent.com)|151.101.0.133|:443... connected.\n",
            "HTTP request sent, awaiting response... 200 OK\n",
            "Length: 1273571 (1.2M) [application/octet-stream]\n",
            "Saving to: ‘Data_Preprocessed_P29_dict_GSR.p’\n",
            "\n",
            "Data_Preprocessed_P 100%[===================>]   1.21M  --.-KB/s    in 0.02s   \n",
            "\n",
            "2020-08-16 12:36:49 (51.2 MB/s) - ‘Data_Preprocessed_P29_dict_GSR.p’ saved [1273571/1273571]\n",
            "\n",
            "29\n",
            "Data_Preprocessed_ECG:  62\n",
            "Data_Preprocessed_ECG_labels:  62\n",
            "--2020-08-16 12:36:51--  https://github.com/katarzynapi/emotion_recognition/blob/master/GSR/Data_Preprocessed_P30_dict_GSR.p?raw=true\n",
            "Resolving github.com (github.com)... 13.229.188.59\n",
            "Connecting to github.com (github.com)|13.229.188.59|:443... connected.\n",
            "HTTP request sent, awaiting response... 302 Found\n",
            "Location: https://github.com/katarzynapi/emotion_recognition/raw/master/GSR/Data_Preprocessed_P30_dict_GSR.p [following]\n",
            "--2020-08-16 12:36:51--  https://github.com/katarzynapi/emotion_recognition/raw/master/GSR/Data_Preprocessed_P30_dict_GSR.p\n",
            "Reusing existing connection to github.com:443.\n",
            "HTTP request sent, awaiting response... 302 Found\n",
            "Location: https://raw.githubusercontent.com/katarzynapi/emotion_recognition/master/GSR/Data_Preprocessed_P30_dict_GSR.p [following]\n",
            "--2020-08-16 12:36:51--  https://raw.githubusercontent.com/katarzynapi/emotion_recognition/master/GSR/Data_Preprocessed_P30_dict_GSR.p\n",
            "Resolving raw.githubusercontent.com (raw.githubusercontent.com)... 151.101.0.133, 151.101.64.133, 151.101.128.133, ...\n",
            "Connecting to raw.githubusercontent.com (raw.githubusercontent.com)|151.101.0.133|:443... connected.\n",
            "HTTP request sent, awaiting response... 200 OK\n",
            "Length: 1273571 (1.2M) [application/octet-stream]\n",
            "Saving to: ‘Data_Preprocessed_P30_dict_GSR.p’\n",
            "\n",
            "Data_Preprocessed_P 100%[===================>]   1.21M  --.-KB/s    in 0.03s   \n",
            "\n",
            "2020-08-16 12:36:52 (46.9 MB/s) - ‘Data_Preprocessed_P30_dict_GSR.p’ saved [1273571/1273571]\n",
            "\n",
            "30\n",
            "Data_Preprocessed_ECG:  62\n",
            "Data_Preprocessed_ECG_labels:  62\n",
            "--2020-08-16 12:36:54--  https://github.com/katarzynapi/emotion_recognition/blob/master/GSR/Data_Preprocessed_P31_dict_GSR.p?raw=true\n",
            "Resolving github.com (github.com)... 52.74.223.119\n",
            "Connecting to github.com (github.com)|52.74.223.119|:443... connected.\n",
            "HTTP request sent, awaiting response... 302 Found\n",
            "Location: https://github.com/katarzynapi/emotion_recognition/raw/master/GSR/Data_Preprocessed_P31_dict_GSR.p [following]\n",
            "--2020-08-16 12:36:54--  https://github.com/katarzynapi/emotion_recognition/raw/master/GSR/Data_Preprocessed_P31_dict_GSR.p\n",
            "Reusing existing connection to github.com:443.\n",
            "HTTP request sent, awaiting response... 302 Found\n",
            "Location: https://raw.githubusercontent.com/katarzynapi/emotion_recognition/master/GSR/Data_Preprocessed_P31_dict_GSR.p [following]\n",
            "--2020-08-16 12:36:55--  https://raw.githubusercontent.com/katarzynapi/emotion_recognition/master/GSR/Data_Preprocessed_P31_dict_GSR.p\n",
            "Resolving raw.githubusercontent.com (raw.githubusercontent.com)... 151.101.0.133, 151.101.64.133, 151.101.128.133, ...\n",
            "Connecting to raw.githubusercontent.com (raw.githubusercontent.com)|151.101.0.133|:443... connected.\n",
            "HTTP request sent, awaiting response... 200 OK\n",
            "Length: 1273571 (1.2M) [application/octet-stream]\n",
            "Saving to: ‘Data_Preprocessed_P31_dict_GSR.p’\n",
            "\n",
            "Data_Preprocessed_P 100%[===================>]   1.21M  --.-KB/s    in 0.03s   \n",
            "\n",
            "2020-08-16 12:36:56 (47.9 MB/s) - ‘Data_Preprocessed_P31_dict_GSR.p’ saved [1273571/1273571]\n",
            "\n",
            "31\n",
            "Data_Preprocessed_ECG:  62\n",
            "Data_Preprocessed_ECG_labels:  62\n",
            "--2020-08-16 12:36:58--  https://github.com/katarzynapi/emotion_recognition/blob/master/GSR/Data_Preprocessed_P32_dict_GSR.p?raw=true\n",
            "Resolving github.com (github.com)... 13.250.177.223\n",
            "Connecting to github.com (github.com)|13.250.177.223|:443... connected.\n",
            "HTTP request sent, awaiting response... 302 Found\n",
            "Location: https://github.com/katarzynapi/emotion_recognition/raw/master/GSR/Data_Preprocessed_P32_dict_GSR.p [following]\n",
            "--2020-08-16 12:36:59--  https://github.com/katarzynapi/emotion_recognition/raw/master/GSR/Data_Preprocessed_P32_dict_GSR.p\n",
            "Reusing existing connection to github.com:443.\n",
            "HTTP request sent, awaiting response... 302 Found\n",
            "Location: https://raw.githubusercontent.com/katarzynapi/emotion_recognition/master/GSR/Data_Preprocessed_P32_dict_GSR.p [following]\n",
            "--2020-08-16 12:36:59--  https://raw.githubusercontent.com/katarzynapi/emotion_recognition/master/GSR/Data_Preprocessed_P32_dict_GSR.p\n",
            "Resolving raw.githubusercontent.com (raw.githubusercontent.com)... 151.101.0.133, 151.101.64.133, 151.101.128.133, ...\n",
            "Connecting to raw.githubusercontent.com (raw.githubusercontent.com)|151.101.0.133|:443... connected.\n",
            "HTTP request sent, awaiting response... 200 OK\n",
            "Length: 1273571 (1.2M) [application/octet-stream]\n",
            "Saving to: ‘Data_Preprocessed_P32_dict_GSR.p’\n",
            "\n",
            "Data_Preprocessed_P 100%[===================>]   1.21M  --.-KB/s    in 0.03s   \n",
            "\n",
            "2020-08-16 12:37:00 (44.1 MB/s) - ‘Data_Preprocessed_P32_dict_GSR.p’ saved [1273571/1273571]\n",
            "\n",
            "32\n",
            "Data_Preprocessed_ECG:  62\n",
            "Data_Preprocessed_ECG_labels:  62\n",
            "--2020-08-16 12:37:02--  https://github.com/katarzynapi/emotion_recognition/blob/master/GSR/Data_Preprocessed_P33_dict_GSR.p?raw=true\n",
            "Resolving github.com (github.com)... 52.74.223.119\n",
            "Connecting to github.com (github.com)|52.74.223.119|:443... connected.\n",
            "HTTP request sent, awaiting response... 302 Found\n",
            "Location: https://github.com/katarzynapi/emotion_recognition/raw/master/GSR/Data_Preprocessed_P33_dict_GSR.p [following]\n",
            "--2020-08-16 12:37:02--  https://github.com/katarzynapi/emotion_recognition/raw/master/GSR/Data_Preprocessed_P33_dict_GSR.p\n",
            "Reusing existing connection to github.com:443.\n",
            "HTTP request sent, awaiting response... 302 Found\n",
            "Location: https://raw.githubusercontent.com/katarzynapi/emotion_recognition/master/GSR/Data_Preprocessed_P33_dict_GSR.p [following]\n",
            "--2020-08-16 12:37:02--  https://raw.githubusercontent.com/katarzynapi/emotion_recognition/master/GSR/Data_Preprocessed_P33_dict_GSR.p\n",
            "Resolving raw.githubusercontent.com (raw.githubusercontent.com)... 151.101.0.133, 151.101.64.133, 151.101.128.133, ...\n",
            "Connecting to raw.githubusercontent.com (raw.githubusercontent.com)|151.101.0.133|:443... connected.\n",
            "HTTP request sent, awaiting response... 200 OK\n",
            "Length: 1273571 (1.2M) [application/octet-stream]\n",
            "Saving to: ‘Data_Preprocessed_P33_dict_GSR.p’\n",
            "\n",
            "Data_Preprocessed_P 100%[===================>]   1.21M  --.-KB/s    in 0.02s   \n",
            "\n",
            "2020-08-16 12:37:03 (59.2 MB/s) - ‘Data_Preprocessed_P33_dict_GSR.p’ saved [1273571/1273571]\n",
            "\n",
            "33\n",
            "Data_Preprocessed_ECG:  62\n",
            "Data_Preprocessed_ECG_labels:  62\n",
            "--2020-08-16 12:37:05--  https://github.com/katarzynapi/emotion_recognition/blob/master/GSR/Data_Preprocessed_P34_dict_GSR.p?raw=true\n",
            "Resolving github.com (github.com)... 52.74.223.119\n",
            "Connecting to github.com (github.com)|52.74.223.119|:443... connected.\n",
            "HTTP request sent, awaiting response... 302 Found\n",
            "Location: https://github.com/katarzynapi/emotion_recognition/raw/master/GSR/Data_Preprocessed_P34_dict_GSR.p [following]\n",
            "--2020-08-16 12:37:05--  https://github.com/katarzynapi/emotion_recognition/raw/master/GSR/Data_Preprocessed_P34_dict_GSR.p\n",
            "Reusing existing connection to github.com:443.\n",
            "HTTP request sent, awaiting response... 302 Found\n",
            "Location: https://raw.githubusercontent.com/katarzynapi/emotion_recognition/master/GSR/Data_Preprocessed_P34_dict_GSR.p [following]\n",
            "--2020-08-16 12:37:06--  https://raw.githubusercontent.com/katarzynapi/emotion_recognition/master/GSR/Data_Preprocessed_P34_dict_GSR.p\n",
            "Resolving raw.githubusercontent.com (raw.githubusercontent.com)... 151.101.0.133, 151.101.64.133, 151.101.128.133, ...\n",
            "Connecting to raw.githubusercontent.com (raw.githubusercontent.com)|151.101.0.133|:443... connected.\n",
            "HTTP request sent, awaiting response... 200 OK\n",
            "Length: 1273571 (1.2M) [application/octet-stream]\n",
            "Saving to: ‘Data_Preprocessed_P34_dict_GSR.p’\n",
            "\n",
            "Data_Preprocessed_P 100%[===================>]   1.21M  --.-KB/s    in 0.03s   \n",
            "\n",
            "2020-08-16 12:37:06 (47.1 MB/s) - ‘Data_Preprocessed_P34_dict_GSR.p’ saved [1273571/1273571]\n",
            "\n",
            "34\n",
            "Data_Preprocessed_ECG:  62\n",
            "Data_Preprocessed_ECG_labels:  62\n",
            "--2020-08-16 12:37:08--  https://github.com/katarzynapi/emotion_recognition/blob/master/GSR/Data_Preprocessed_P35_dict_GSR.p?raw=true\n",
            "Resolving github.com (github.com)... 13.229.188.59\n",
            "Connecting to github.com (github.com)|13.229.188.59|:443... connected.\n",
            "HTTP request sent, awaiting response... 302 Found\n",
            "Location: https://github.com/katarzynapi/emotion_recognition/raw/master/GSR/Data_Preprocessed_P35_dict_GSR.p [following]\n",
            "--2020-08-16 12:37:08--  https://github.com/katarzynapi/emotion_recognition/raw/master/GSR/Data_Preprocessed_P35_dict_GSR.p\n",
            "Reusing existing connection to github.com:443.\n",
            "HTTP request sent, awaiting response... 302 Found\n",
            "Location: https://raw.githubusercontent.com/katarzynapi/emotion_recognition/master/GSR/Data_Preprocessed_P35_dict_GSR.p [following]\n",
            "--2020-08-16 12:37:09--  https://raw.githubusercontent.com/katarzynapi/emotion_recognition/master/GSR/Data_Preprocessed_P35_dict_GSR.p\n",
            "Resolving raw.githubusercontent.com (raw.githubusercontent.com)... 151.101.0.133, 151.101.64.133, 151.101.128.133, ...\n",
            "Connecting to raw.githubusercontent.com (raw.githubusercontent.com)|151.101.0.133|:443... connected.\n",
            "HTTP request sent, awaiting response... 200 OK\n",
            "Length: 1273571 (1.2M) [application/octet-stream]\n",
            "Saving to: ‘Data_Preprocessed_P35_dict_GSR.p’\n",
            "\n",
            "Data_Preprocessed_P 100%[===================>]   1.21M  --.-KB/s    in 0.02s   \n",
            "\n",
            "2020-08-16 12:37:09 (53.0 MB/s) - ‘Data_Preprocessed_P35_dict_GSR.p’ saved [1273571/1273571]\n",
            "\n",
            "35\n",
            "Data_Preprocessed_ECG:  62\n",
            "Data_Preprocessed_ECG_labels:  62\n",
            "--2020-08-16 12:37:11--  https://github.com/katarzynapi/emotion_recognition/blob/master/GSR/Data_Preprocessed_P36_dict_GSR.p?raw=true\n",
            "Resolving github.com (github.com)... 52.74.223.119\n",
            "Connecting to github.com (github.com)|52.74.223.119|:443... connected.\n",
            "HTTP request sent, awaiting response... 302 Found\n",
            "Location: https://github.com/katarzynapi/emotion_recognition/raw/master/GSR/Data_Preprocessed_P36_dict_GSR.p [following]\n",
            "--2020-08-16 12:37:12--  https://github.com/katarzynapi/emotion_recognition/raw/master/GSR/Data_Preprocessed_P36_dict_GSR.p\n",
            "Reusing existing connection to github.com:443.\n",
            "HTTP request sent, awaiting response... 302 Found\n",
            "Location: https://raw.githubusercontent.com/katarzynapi/emotion_recognition/master/GSR/Data_Preprocessed_P36_dict_GSR.p [following]\n",
            "--2020-08-16 12:37:12--  https://raw.githubusercontent.com/katarzynapi/emotion_recognition/master/GSR/Data_Preprocessed_P36_dict_GSR.p\n",
            "Resolving raw.githubusercontent.com (raw.githubusercontent.com)... 151.101.0.133, 151.101.64.133, 151.101.128.133, ...\n",
            "Connecting to raw.githubusercontent.com (raw.githubusercontent.com)|151.101.0.133|:443... connected.\n",
            "HTTP request sent, awaiting response... 200 OK\n",
            "Length: 1273571 (1.2M) [application/octet-stream]\n",
            "Saving to: ‘Data_Preprocessed_P36_dict_GSR.p’\n",
            "\n",
            "Data_Preprocessed_P 100%[===================>]   1.21M  --.-KB/s    in 0.02s   \n",
            "\n",
            "2020-08-16 12:37:13 (66.1 MB/s) - ‘Data_Preprocessed_P36_dict_GSR.p’ saved [1273571/1273571]\n",
            "\n",
            "36\n",
            "Data_Preprocessed_ECG:  62\n",
            "Data_Preprocessed_ECG_labels:  62\n",
            "--2020-08-16 12:37:15--  https://github.com/katarzynapi/emotion_recognition/blob/master/GSR/Data_Preprocessed_P37_dict_GSR.p?raw=true\n",
            "Resolving github.com (github.com)... 52.74.223.119\n",
            "Connecting to github.com (github.com)|52.74.223.119|:443... connected.\n",
            "HTTP request sent, awaiting response... 302 Found\n",
            "Location: https://github.com/katarzynapi/emotion_recognition/raw/master/GSR/Data_Preprocessed_P37_dict_GSR.p [following]\n",
            "--2020-08-16 12:37:16--  https://github.com/katarzynapi/emotion_recognition/raw/master/GSR/Data_Preprocessed_P37_dict_GSR.p\n",
            "Reusing existing connection to github.com:443.\n",
            "HTTP request sent, awaiting response... 302 Found\n",
            "Location: https://raw.githubusercontent.com/katarzynapi/emotion_recognition/master/GSR/Data_Preprocessed_P37_dict_GSR.p [following]\n",
            "--2020-08-16 12:37:16--  https://raw.githubusercontent.com/katarzynapi/emotion_recognition/master/GSR/Data_Preprocessed_P37_dict_GSR.p\n",
            "Resolving raw.githubusercontent.com (raw.githubusercontent.com)... 151.101.0.133, 151.101.64.133, 151.101.128.133, ...\n",
            "Connecting to raw.githubusercontent.com (raw.githubusercontent.com)|151.101.0.133|:443... connected.\n",
            "HTTP request sent, awaiting response... 200 OK\n",
            "Length: 1273571 (1.2M) [application/octet-stream]\n",
            "Saving to: ‘Data_Preprocessed_P37_dict_GSR.p’\n",
            "\n",
            "Data_Preprocessed_P 100%[===================>]   1.21M  --.-KB/s    in 0.03s   \n",
            "\n",
            "2020-08-16 12:37:17 (36.3 MB/s) - ‘Data_Preprocessed_P37_dict_GSR.p’ saved [1273571/1273571]\n",
            "\n",
            "37\n",
            "Data_Preprocessed_ECG:  62\n",
            "Data_Preprocessed_ECG_labels:  62\n",
            "--2020-08-16 12:37:20--  https://github.com/katarzynapi/emotion_recognition/blob/master/GSR/Data_Preprocessed_P38_dict_GSR.p?raw=true\n",
            "Resolving github.com (github.com)... 52.74.223.119\n",
            "Connecting to github.com (github.com)|52.74.223.119|:443... connected.\n",
            "HTTP request sent, awaiting response... 302 Found\n",
            "Location: https://github.com/katarzynapi/emotion_recognition/raw/master/GSR/Data_Preprocessed_P38_dict_GSR.p [following]\n",
            "--2020-08-16 12:37:20--  https://github.com/katarzynapi/emotion_recognition/raw/master/GSR/Data_Preprocessed_P38_dict_GSR.p\n",
            "Reusing existing connection to github.com:443.\n",
            "HTTP request sent, awaiting response... 302 Found\n",
            "Location: https://raw.githubusercontent.com/katarzynapi/emotion_recognition/master/GSR/Data_Preprocessed_P38_dict_GSR.p [following]\n",
            "--2020-08-16 12:37:21--  https://raw.githubusercontent.com/katarzynapi/emotion_recognition/master/GSR/Data_Preprocessed_P38_dict_GSR.p\n",
            "Resolving raw.githubusercontent.com (raw.githubusercontent.com)... 151.101.0.133, 151.101.64.133, 151.101.128.133, ...\n",
            "Connecting to raw.githubusercontent.com (raw.githubusercontent.com)|151.101.0.133|:443... connected.\n",
            "HTTP request sent, awaiting response... 200 OK\n",
            "Length: 1273571 (1.2M) [application/octet-stream]\n",
            "Saving to: ‘Data_Preprocessed_P38_dict_GSR.p’\n",
            "\n",
            "Data_Preprocessed_P 100%[===================>]   1.21M  --.-KB/s    in 0.02s   \n",
            "\n",
            "2020-08-16 12:37:22 (50.5 MB/s) - ‘Data_Preprocessed_P38_dict_GSR.p’ saved [1273571/1273571]\n",
            "\n",
            "38\n",
            "Data_Preprocessed_ECG:  62\n",
            "Data_Preprocessed_ECG_labels:  62\n",
            "--2020-08-16 12:37:25--  https://github.com/katarzynapi/emotion_recognition/blob/master/GSR/Data_Preprocessed_P39_dict_GSR.p?raw=true\n",
            "Resolving github.com (github.com)... 52.74.223.119\n",
            "Connecting to github.com (github.com)|52.74.223.119|:443... connected.\n",
            "HTTP request sent, awaiting response... 302 Found\n",
            "Location: https://github.com/katarzynapi/emotion_recognition/raw/master/GSR/Data_Preprocessed_P39_dict_GSR.p [following]\n",
            "--2020-08-16 12:37:25--  https://github.com/katarzynapi/emotion_recognition/raw/master/GSR/Data_Preprocessed_P39_dict_GSR.p\n",
            "Reusing existing connection to github.com:443.\n",
            "HTTP request sent, awaiting response... 302 Found\n",
            "Location: https://raw.githubusercontent.com/katarzynapi/emotion_recognition/master/GSR/Data_Preprocessed_P39_dict_GSR.p [following]\n",
            "--2020-08-16 12:37:25--  https://raw.githubusercontent.com/katarzynapi/emotion_recognition/master/GSR/Data_Preprocessed_P39_dict_GSR.p\n",
            "Resolving raw.githubusercontent.com (raw.githubusercontent.com)... 151.101.0.133, 151.101.64.133, 151.101.128.133, ...\n",
            "Connecting to raw.githubusercontent.com (raw.githubusercontent.com)|151.101.0.133|:443... connected.\n",
            "HTTP request sent, awaiting response... 200 OK\n",
            "Length: 1273571 (1.2M) [application/octet-stream]\n",
            "Saving to: ‘Data_Preprocessed_P39_dict_GSR.p’\n",
            "\n",
            "Data_Preprocessed_P 100%[===================>]   1.21M  --.-KB/s    in 0.03s   \n",
            "\n",
            "2020-08-16 12:37:26 (36.9 MB/s) - ‘Data_Preprocessed_P39_dict_GSR.p’ saved [1273571/1273571]\n",
            "\n",
            "39\n",
            "Data_Preprocessed_ECG:  62\n",
            "Data_Preprocessed_ECG_labels:  62\n",
            "--2020-08-16 12:37:28--  https://github.com/katarzynapi/emotion_recognition/blob/master/GSR/Data_Preprocessed_P40_dict_GSR.p?raw=true\n",
            "Resolving github.com (github.com)... 52.74.223.119\n",
            "Connecting to github.com (github.com)|52.74.223.119|:443... connected.\n",
            "HTTP request sent, awaiting response... 302 Found\n",
            "Location: https://github.com/katarzynapi/emotion_recognition/raw/master/GSR/Data_Preprocessed_P40_dict_GSR.p [following]\n",
            "--2020-08-16 12:37:29--  https://github.com/katarzynapi/emotion_recognition/raw/master/GSR/Data_Preprocessed_P40_dict_GSR.p\n",
            "Reusing existing connection to github.com:443.\n",
            "HTTP request sent, awaiting response... 302 Found\n",
            "Location: https://raw.githubusercontent.com/katarzynapi/emotion_recognition/master/GSR/Data_Preprocessed_P40_dict_GSR.p [following]\n",
            "--2020-08-16 12:37:29--  https://raw.githubusercontent.com/katarzynapi/emotion_recognition/master/GSR/Data_Preprocessed_P40_dict_GSR.p\n",
            "Resolving raw.githubusercontent.com (raw.githubusercontent.com)... 151.101.0.133, 151.101.64.133, 151.101.128.133, ...\n",
            "Connecting to raw.githubusercontent.com (raw.githubusercontent.com)|151.101.0.133|:443... connected.\n",
            "HTTP request sent, awaiting response... 200 OK\n",
            "Length: 1273571 (1.2M) [application/octet-stream]\n",
            "Saving to: ‘Data_Preprocessed_P40_dict_GSR.p’\n",
            "\n",
            "Data_Preprocessed_P 100%[===================>]   1.21M  --.-KB/s    in 0.03s   \n",
            "\n",
            "2020-08-16 12:37:31 (40.0 MB/s) - ‘Data_Preprocessed_P40_dict_GSR.p’ saved [1273571/1273571]\n",
            "\n",
            "40\n",
            "Data_Preprocessed_ECG:  62\n",
            "Data_Preprocessed_ECG_labels:  62\n"
          ],
          "name": "stdout"
        }
      ]
    },
    {
      "cell_type": "code",
      "metadata": {
        "id": "o-OnGUnsWVou",
        "colab_type": "code",
        "colab": {
          "base_uri": "https://localhost:8080/",
          "height": 51
        },
        "outputId": "d2a1b8cf-cad3-452c-b35c-da19604be63c"
      },
      "source": [
        "print(len(Data_Preprocessed_ECG))\n",
        "print(len(Data_Preprocessed_ECG_labels))"
      ],
      "execution_count": null,
      "outputs": [
        {
          "output_type": "stream",
          "text": [
            "2480\n",
            "2480\n"
          ],
          "name": "stdout"
        }
      ]
    },
    {
      "cell_type": "markdown",
      "metadata": {
        "id": "1EcmZyFGWZsK",
        "colab_type": "text"
      },
      "source": [
        "**Data_Preprocessed_ECG** - 2d numpy array with ECG signal fragments (20sec -> 2560 samples each).\n",
        "\n",
        "**Data_Preprocessed_ECG_labels** - 2d numpy array with labels for each ECG fragment in **Data_Preprocessed_ECG**. Every label is a 2-element array, First element related to arousal (0-LOW, 1-HIGH) and second to valence (0-LOW, 1-HIGH).\n",
        "\n",
        "First 5sec of every video were omitted, as it was baseline. Then 20sec clips were collected."
      ]
    },
    {
      "cell_type": "code",
      "metadata": {
        "id": "EkBAMP6xXLER",
        "colab_type": "code",
        "colab": {
          "base_uri": "https://localhost:8080/",
          "height": 51
        },
        "outputId": "2481de76-2307-4869-e65f-e555dfa6a802"
      },
      "source": [
        "# disjoining labels array into two parts - valence and arousal (for testing purpose)\n",
        "print(len(Data_Preprocessed_ECG))\n",
        "Data_Preprocessed_ECG = np.array(Data_Preprocessed_ECG)\n",
        "print(len(Data_Preprocessed_ECG_labels))\n",
        "Data_Preprocessed_ECG_labels = np.array(Data_Preprocessed_ECG_labels)\n",
        "\n",
        "Data_Preprocessed_ECG_labels_arousal = np.array([a_v[0] for a_v in Data_Preprocessed_ECG_labels])\n",
        "Data_Preprocessed_ECG_labels_valence = np.array([a_v[1] for a_v in Data_Preprocessed_ECG_labels])"
      ],
      "execution_count": null,
      "outputs": [
        {
          "output_type": "stream",
          "text": [
            "2480\n",
            "2480\n"
          ],
          "name": "stdout"
        }
      ]
    },
    {
      "cell_type": "markdown",
      "metadata": {
        "id": "nMVmIz_-Xubg",
        "colab_type": "text"
      },
      "source": [
        "Deleting signal fragments with NaN"
      ]
    },
    {
      "cell_type": "code",
      "metadata": {
        "id": "z_JbjiaoX4-q",
        "colab_type": "code",
        "colab": {
          "base_uri": "https://localhost:8080/",
          "height": 68
        },
        "outputId": "11b82fa8-013d-40b5-ebc0-602d9740e8e5"
      },
      "source": [
        "Data_Preprocessed_ECG_no_nan = Data_Preprocessed_ECG[~np.isnan(Data_Preprocessed_ECG).any(axis=1)]\n",
        "Data_Preprocessed_ECG_labels_no_nan = Data_Preprocessed_ECG_labels[~np.isnan(Data_Preprocessed_ECG).any(axis=1)]\n",
        "Data_Preprocessed_ECG_labels_arousal_no_nan = Data_Preprocessed_ECG_labels_arousal[~np.isnan(Data_Preprocessed_ECG).any(axis=1)]\n",
        "Data_Preprocessed_ECG_labels_valence_no_nan = Data_Preprocessed_ECG_labels_valence[~np.isnan(Data_Preprocessed_ECG).any(axis=1)]\n",
        "\n",
        "print(len(Data_Preprocessed_ECG_no_nan))\n",
        "print(len(Data_Preprocessed_ECG_labels_arousal_no_nan))\n",
        "print(len(Data_Preprocessed_ECG_labels_valence_no_nan))"
      ],
      "execution_count": null,
      "outputs": [
        {
          "output_type": "stream",
          "text": [
            "2480\n",
            "2480\n",
            "2480\n"
          ],
          "name": "stdout"
        }
      ]
    },
    {
      "cell_type": "markdown",
      "metadata": {
        "id": "OERn7hp8YAQu",
        "colab_type": "text"
      },
      "source": [
        "Display some ECG fragments"
      ]
    },
    {
      "cell_type": "code",
      "metadata": {
        "id": "PbUwchAIX-nw",
        "colab_type": "code",
        "colab": {
          "base_uri": "https://localhost:8080/",
          "height": 1000
        },
        "outputId": "8477d949-4e47-4334-b5e4-7c2e6f81b7bc"
      },
      "source": [
        "for i in range(5):\n",
        "  print(i)\n",
        "  plt.plot(Data_Preprocessed_ECG[i])\n",
        "  plt.show()"
      ],
      "execution_count": null,
      "outputs": [
        {
          "output_type": "stream",
          "text": [
            "0\n"
          ],
          "name": "stdout"
        },
        {
          "output_type": "display_data",
          "data": {
            "image/png": "[encoded data removed]",
            "text/plain": [
              "<Figure size 432x288 with 1 Axes>"
            ]
          },
          "metadata": {
            "tags": [],
            "needs_background": "light"
          }
        },
        {
          "output_type": "stream",
          "text": [
            "1\n"
          ],
          "name": "stdout"
        },
        {
          "output_type": "display_data",
          "data": {
            "image/png": "[encoded data removed]",
            "text/plain": [
              "<Figure size 432x288 with 1 Axes>"
            ]
          },
          "metadata": {
            "tags": [],
            "needs_background": "light"
          }
        },
        {
          "output_type": "stream",
          "text": [
            "2\n"
          ],
          "name": "stdout"
        },
        {
          "output_type": "display_data",
          "data": {
            "image/png": "[encoded data removed]",
            "text/plain": [
              "<Figure size 432x288 with 1 Axes>"
            ]
          },
          "metadata": {
            "tags": [],
            "needs_background": "light"
          }
        },
        {
          "output_type": "stream",
          "text": [
            "3\n"
          ],
          "name": "stdout"
        },
        {
          "output_type": "display_data",
          "data": {
            "image/png": "[encoded data removed]",
            "text/plain": [
              "<Figure size 432x288 with 1 Axes>"
            ]
          },
          "metadata": {
            "tags": [],
            "needs_background": "light"
          }
        },
        {
          "output_type": "stream",
          "text": [
            "4\n"
          ],
          "name": "stdout"
        },
        {
          "output_type": "display_data",
          "data": {
            "image/png": "[encoded data removed]",
            "text/plain": [
              "<Figure size 432x288 with 1 Axes>"
            ]
          },
          "metadata": {
            "tags": [],
            "needs_background": "light"
          }
        }
      ]
    },
    {
      "cell_type": "markdown",
      "metadata": {
        "id": "PJsV0_Eg3VyU",
        "colab_type": "text"
      },
      "source": [
        "Hamming window application (optional)"
      ]
    },
    {
      "cell_type": "code",
      "metadata": {
        "id": "ZejbGvGJ3UB8",
        "colab_type": "code",
        "colab": {
          "base_uri": "https://localhost:8080/",
          "height": 276
        },
        "outputId": "f0c4cf2b-e994-40df-f040-2ec109bcc2d5"
      },
      "source": [
        "# optional code\n",
        "hamming_window = np.hamming(len(Data_Preprocessed_ECG_no_nan[0]))\n",
        "for i in Data_Preprocessed_ECG_no_nan:\n",
        "  i *= i*hamming_window\n",
        "plt.plot(Data_Preprocessed_ECG_no_nan[0])\n",
        "plt.show()"
      ],
      "execution_count": null,
      "outputs": [
        {
          "output_type": "display_data",
          "data": {
            "image/png": "[encoded data removed]",
            "text/plain": [
              "<Figure size 432x288 with 1 Axes>"
            ]
          },
          "metadata": {
            "tags": [],
            "needs_background": "light"
          }
        }
      ]
    },
    {
      "cell_type": "markdown",
      "metadata": {
        "id": "za4Ge2bGYPJe",
        "colab_type": "text"
      },
      "source": [
        "Normalization to mean value for each row separately"
      ]
    },
    {
      "cell_type": "code",
      "metadata": {
        "id": "Nl2bPgmTpYf2",
        "colab_type": "code",
        "colab": {}
      },
      "source": [
        "from sklearn import preprocessing\n",
        "\n",
        "Data_Preprocessed_ECG_normalized = []\n",
        "for i in range(len(Data_Preprocessed_ECG_no_nan)):\n",
        "  Data_Preprocessed_ECG_normalized.append(preprocessing.scale(Data_Preprocessed_ECG_no_nan[i]))\n",
        "Data_Preprocessed_ECG_normalized = np.asarray(Data_Preprocessed_ECG_normalized)"
      ],
      "execution_count": null,
      "outputs": []
    },
    {
      "cell_type": "markdown",
      "metadata": {
        "id": "UJyJ_z2lC2Km",
        "colab_type": "text"
      },
      "source": [
        "Normalization to mean of the whole data"
      ]
    },
    {
      "cell_type": "code",
      "metadata": {
        "id": "de3N7tPVC3e-",
        "colab_type": "code",
        "colab": {}
      },
      "source": [
        "#from sklearn import preprocessing\n",
        "#Data_Preprocessed_ECG_normalized = preprocessing.scale(Data_Preprocessed_ECG_no_nan)\n",
        "#Data_Preprocessed_ECG_normalized = np.asarray(Data_Preprocessed_ECG_normalized)"
      ],
      "execution_count": null,
      "outputs": []
    },
    {
      "cell_type": "markdown",
      "metadata": {
        "id": "OLjfkUtCYaYp",
        "colab_type": "text"
      },
      "source": [
        "Examplary signal after normalization"
      ]
    },
    {
      "cell_type": "code",
      "metadata": {
        "id": "qUYSzWLlYjqA",
        "colab_type": "code",
        "colab": {
          "base_uri": "https://localhost:8080/",
          "height": 265
        },
        "outputId": "fe9221f6-51c2-42f9-d434-d42b495aa6af"
      },
      "source": [
        "plt.plot(Data_Preprocessed_ECG_normalized[0])\n",
        "plt.show()"
      ],
      "execution_count": null,
      "outputs": [
        {
          "output_type": "display_data",
          "data": {
            "image/png": "[encoded data removed]",
            "text/plain": [
              "<Figure size 432x288 with 1 Axes>"
            ]
          },
          "metadata": {
            "tags": [],
            "needs_background": "light"
          }
        }
      ]
    },
    {
      "cell_type": "markdown",
      "metadata": {
        "id": "aSgca9sLYm9S",
        "colab_type": "text"
      },
      "source": [
        "Expand dimensions to meet neural network input shape requirements (based on https://stackoverflow.com/questions/43396572/dimension-of-shape-in-conv1d )\n"
      ]
    },
    {
      "cell_type": "code",
      "metadata": {
        "id": "finY4JgUYz7c",
        "colab_type": "code",
        "colab": {}
      },
      "source": [
        "Data_Preprocessed_ECG_normalized = np.expand_dims(Data_Preprocessed_ECG_normalized, axis=2)"
      ],
      "execution_count": null,
      "outputs": []
    },
    {
      "cell_type": "markdown",
      "metadata": {
        "id": "HsryUN9GY4N_",
        "colab_type": "text"
      },
      "source": [
        "Neural network architecture from (Pyakillya) article, which is mentioned in the main article.\n",
        "\n",
        "In current case, we use CNN 1D with the following architecture:\n",
        "\n",
        "*   7 convolutional layers with filter width 5 and 128 neurons + max-pooling and dropout after every layer\n",
        "*   GlovalAveragePooling\n",
        "*   3 FCN layers with (256/128/64) neurons + dropout after every layer\n",
        "*   softmax layer with 4 outputs\n",
        "\n",
        "(The reason of 4 outputs is ECG signal classification to 4 classes, not emotion recognition)"
      ]
    },
    {
      "cell_type": "markdown",
      "metadata": {
        "id": "T2LcZ87-ZvJC",
        "colab_type": "text"
      },
      "source": [
        "From main article:\n",
        "\n",
        "The DCNN involves a sequence of CNN layers and pooling layers to automatically extract features from the physiological signals. Fully connected layers are located in front of CNN, operate on all nodes and are used to predict the affective state.\n",
        "\n",
        "In the CNN layers and fully connected layers, the activation function of the Rectified Linear Unit (ReLU) is set\n",
        "\n",
        "The max-pooling layers are alternated between the CNN layers\n",
        "\n",
        "As a regularization technique to decrease the overfitting in the layers of the neural network, the dropout with a value of 0.5 is added (where exactly? how many?)\n",
        "\n",
        "The output layers of the fully connected network are configured with the softmax classifier\n",
        "\n",
        "CNN architecture:\n",
        "- Input layer that connects the vector of physiological features with the neurons of the first convolutional layer\n",
        "\n",
        "- Three consecutive convolutional layers, to extract the features of the ECG and GSR signals\n",
        "\n",
        "- Three FCN, to perform the training and testing\n",
        "\n",
        "- Last FCN layer is used to predict the affective state"
      ]
    },
    {
      "cell_type": "markdown",
      "metadata": {
        "id": "Weq6CeZXZ1dD",
        "colab_type": "text"
      },
      "source": [
        "For the ECG vector, the kernel size for the four convolutional layers is defined at 15, 10, 5 and 1. In GSR vector, it was configured at 10, 3, 1 and 1. The max-poling sizes were defined in 5, 2, 2 and 2,1,1 respectively for the ECG and GSR signals. Kernel filter sizes were set to 256. The epochs number used to train the model was 200."
      ]
    },
    {
      "cell_type": "markdown",
      "metadata": {
        "id": "29zSGktmjO3L",
        "colab_type": "text"
      },
      "source": [
        "**1) CNN with 2 outputs -> for valence and arousal**"
      ]
    },
    {
      "cell_type": "code",
      "metadata": {
        "id": "qs_6WzuZaNYv",
        "colab_type": "code",
        "colab": {
          "base_uri": "https://localhost:8080/",
          "height": 595
        },
        "outputId": "02a521f6-924f-41e0-8c63-9d79a756fc25"
      },
      "source": [
        "input_shape = (2560, 1)\n",
        "\n",
        "#ECG\n",
        "'''\n",
        "net_ECG = models.Sequential()\n",
        "net_ECG.add(layers.Conv1D(256, 15, activation='relu', input_shape=input_shape))\n",
        "net_ECG.add(layers.MaxPooling1D(5))\n",
        "net_ECG.add(layers.Conv1D(256, 10, activation='relu'))\n",
        "net_ECG.add(layers.MaxPooling1D(2))\n",
        "net_ECG.add(layers.Conv1D(256, 5, activation='relu'))\n",
        "net_ECG.add(layers.MaxPooling1D(2))\n",
        "net_ECG.add(layers.Conv1D(256, 1, activation='relu'))\n",
        "net_ECG.add(layers.GlobalAveragePooling1D())\n",
        "net_ECG.add(layers.Dropout(0.5))\n",
        "net_ECG.add(layers.Dense(256, activation='relu'))\n",
        "net_ECG.add(layers.Dense(128, activation='relu'))\n",
        "net_ECG.add(layers.Dense(64, activation='relu'))\n",
        "net_ECG.add(layers.Dense(2, activation='softmax'))\n",
        "'''\n",
        "#GSR\n",
        "net_ECG = models.Sequential()\n",
        "net_ECG.add(layers.Conv1D(256, 10, activation='relu', input_shape=input_shape))\n",
        "net_ECG.add(layers.MaxPooling1D(2))\n",
        "net_ECG.add(layers.Conv1D(256, 3, activation='relu'))\n",
        "net_ECG.add(layers.MaxPooling1D(1))\n",
        "net_ECG.add(layers.Conv1D(256, 3, activation='relu'))\n",
        "net_ECG.add(layers.MaxPooling1D(1))\n",
        "net_ECG.add(layers.Conv1D(256, 1, activation='relu'))\n",
        "net_ECG.add(layers.GlobalAveragePooling1D())\n",
        "net_ECG.add(layers.Dropout(0.5))\n",
        "net_ECG.add(layers.Dense(256, activation='relu'))\n",
        "net_ECG.add(layers.Dense(128, activation='relu'))\n",
        "net_ECG.add(layers.Dense(64, activation='relu'))\n",
        "net_ECG.add(layers.Dense(2, activation='softmax'))\n",
        "\n",
        "net_ECG.summary()"
      ],
      "execution_count": null,
      "outputs": [
        {
          "output_type": "stream",
          "text": [
            "Model: \"sequential_1\"\n",
            "_________________________________________________________________\n",
            "Layer (type)                 Output Shape              Param #   \n",
            "=================================================================\n",
            "conv1d_4 (Conv1D)            (None, 2551, 256)         2816      \n",
            "_________________________________________________________________\n",
            "max_pooling1d_3 (MaxPooling1 (None, 1275, 256)         0         \n",
            "_________________________________________________________________\n",
            "conv1d_5 (Conv1D)            (None, 1273, 256)         196864    \n",
            "_________________________________________________________________\n",
            "max_pooling1d_4 (MaxPooling1 (None, 1273, 256)         0         \n",
            "_________________________________________________________________\n",
            "conv1d_6 (Conv1D)            (None, 1271, 256)         196864    \n",
            "_________________________________________________________________\n",
            "max_pooling1d_5 (MaxPooling1 (None, 1271, 256)         0         \n",
            "_________________________________________________________________\n",
            "conv1d_7 (Conv1D)            (None, 1271, 256)         65792     \n",
            "_________________________________________________________________\n",
            "global_average_pooling1d_1 ( (None, 256)               0         \n",
            "_________________________________________________________________\n",
            "dropout_1 (Dropout)          (None, 256)               0         \n",
            "_________________________________________________________________\n",
            "dense_4 (Dense)              (None, 256)               65792     \n",
            "_________________________________________________________________\n",
            "dense_5 (Dense)              (None, 128)               32896     \n",
            "_________________________________________________________________\n",
            "dense_6 (Dense)              (None, 64)                8256      \n",
            "_________________________________________________________________\n",
            "dense_7 (Dense)              (None, 2)                 130       \n",
            "=================================================================\n",
            "Total params: 569,410\n",
            "Trainable params: 569,410\n",
            "Non-trainable params: 0\n",
            "_________________________________________________________________\n"
          ],
          "name": "stdout"
        }
      ]
    },
    {
      "cell_type": "markdown",
      "metadata": {
        "id": "pgzgYcsaaVwI",
        "colab_type": "text"
      },
      "source": [
        "During the supervised training, the loss is minimized with the Root Mean Square Propogation (RMSProp) optimizer, since it adjusts the learning rate adaptively. Initially, the learning rate is set to 0.001 (default in Keras)."
      ]
    },
    {
      "cell_type": "code",
      "metadata": {
        "id": "eEmwqkhbaaxC",
        "colab_type": "code",
        "colab": {}
      },
      "source": [
        "net_ECG.compile(optimizer='RMSprop',\n",
        "                loss='binary_crossentropy',\n",
        "                metrics=['accuracy'])"
      ],
      "execution_count": null,
      "outputs": []
    },
    {
      "cell_type": "markdown",
      "metadata": {
        "id": "i6bXErDbaeyL",
        "colab_type": "text"
      },
      "source": [
        "Pyakillya: the batch size was equal to 256"
      ]
    },
    {
      "cell_type": "code",
      "metadata": {
        "id": "FsPJMF4xajbF",
        "colab_type": "code",
        "colab": {
          "base_uri": "https://localhost:8080/",
          "height": 357
        },
        "outputId": "e64736ed-86d0-4a19-a1d1-d7af51db8b2e"
      },
      "source": [
        "history = net_ECG.fit(x=Data_Preprocessed_ECG_normalized[50:], y=Data_Preprocessed_ECG_labels_no_nan[50:], batch_size=256, epochs=10, validation_split=0.1)"
      ],
      "execution_count": null,
      "outputs": [
        {
          "output_type": "stream",
          "text": [
            "Epoch 1/10\n",
            "9/9 [==============================] - 4s 481ms/step - loss: 0.6966 - accuracy: 0.7042 - val_loss: 0.6885 - val_accuracy: 0.8395\n",
            "Epoch 2/10\n",
            "9/9 [==============================] - 3s 386ms/step - loss: 0.6908 - accuracy: 0.8208 - val_loss: 0.6897 - val_accuracy: 0.8395\n",
            "Epoch 3/10\n",
            "9/9 [==============================] - 3s 389ms/step - loss: 0.6902 - accuracy: 0.8208 - val_loss: 0.6888 - val_accuracy: 0.8395\n",
            "Epoch 4/10\n",
            "9/9 [==============================] - 4s 390ms/step - loss: 0.6905 - accuracy: 0.8208 - val_loss: 0.6878 - val_accuracy: 0.8395\n",
            "Epoch 5/10\n",
            "9/9 [==============================] - 4s 392ms/step - loss: 0.6907 - accuracy: 0.8208 - val_loss: 0.6887 - val_accuracy: 0.8395\n",
            "Epoch 6/10\n",
            "9/9 [==============================] - 4s 394ms/step - loss: 0.6916 - accuracy: 0.8208 - val_loss: 0.6893 - val_accuracy: 0.8395\n",
            "Epoch 7/10\n",
            "9/9 [==============================] - 4s 393ms/step - loss: 0.6903 - accuracy: 0.8208 - val_loss: 0.6883 - val_accuracy: 0.8395\n",
            "Epoch 8/10\n",
            "9/9 [==============================] - 4s 395ms/step - loss: 0.6908 - accuracy: 0.8208 - val_loss: 0.6890 - val_accuracy: 0.8395\n",
            "Epoch 9/10\n",
            "9/9 [==============================] - 4s 397ms/step - loss: 0.6906 - accuracy: 0.8208 - val_loss: 0.6886 - val_accuracy: 0.8395\n",
            "Epoch 10/10\n",
            "9/9 [==============================] - 4s 398ms/step - loss: 0.6903 - accuracy: 0.8208 - val_loss: 0.6880 - val_accuracy: 0.8395\n"
          ],
          "name": "stdout"
        }
      ]
    },
    {
      "cell_type": "code",
      "metadata": {
        "id": "xCQJUcY4y5hG",
        "colab_type": "code",
        "colab": {
          "base_uri": "https://localhost:8080/",
          "height": 68
        },
        "outputId": "8c8d98a0-e7f1-47d6-a7c0-44edd348fc1c"
      },
      "source": [
        "test_loss, test_acc = net_ECG.evaluate(Data_Preprocessed_ECG_normalized[:50], Data_Preprocessed_ECG_labels_no_nan[:50]) \n",
        "print('test_acc:', test_acc,'\\n')"
      ],
      "execution_count": null,
      "outputs": [
        {
          "output_type": "stream",
          "text": [
            "2/2 [==============================] - 0s 46ms/step - loss: 0.6832 - accuracy: 0.8200\n",
            "test_acc: 0.8199999928474426 \n",
            "\n"
          ],
          "name": "stdout"
        }
      ]
    },
    {
      "cell_type": "markdown",
      "metadata": {
        "id": "o64Zv18TuAz2",
        "colab_type": "text"
      },
      "source": [
        "**2) CNN with 1 output -> for valence or arousal**\n",
        "\n"
      ]
    },
    {
      "cell_type": "code",
      "metadata": {
        "id": "whDL-zRkuDQ4",
        "colab_type": "code",
        "colab": {
          "base_uri": "https://localhost:8080/",
          "height": 595
        },
        "outputId": "c9d12146-62e6-4ca7-8e1d-c7b5680b4431"
      },
      "source": [
        "input_shape = (2560, 1)\n",
        "\n",
        "#ECG\n",
        "'''\n",
        "net_ECG = models.Sequential()\n",
        "net_ECG.add(layers.Conv1D(256, 15, activation='relu', input_shape=input_shape))\n",
        "net_ECG.add(layers.MaxPooling1D(5))\n",
        "net_ECG.add(layers.Conv1D(256, 10, activation='relu'))\n",
        "net_ECG.add(layers.MaxPooling1D(2))\n",
        "net_ECG.add(layers.Conv1D(256, 5, activation='relu'))\n",
        "net_ECG.add(layers.MaxPooling1D(2))\n",
        "net_ECG.add(layers.Conv1D(256, 1, activation='relu'))\n",
        "net_ECG.add(layers.GlobalAveragePooling1D())\n",
        "net_ECG.add(layers.Dropout(0.5))\n",
        "net_ECG.add(layers.Dense(256, activation='relu'))\n",
        "net_ECG.add(layers.Dense(128, activation='relu'))\n",
        "net_ECG.add(layers.Dense(64, activation='relu'))\n",
        "net_ECG.add(layers.Dense(1, activation='softmax'))\n",
        "'''\n",
        "#GSR\n",
        "net_ECG = models.Sequential()\n",
        "net_ECG.add(layers.Conv1D(256, 10, activation='relu', input_shape=input_shape))\n",
        "net_ECG.add(layers.MaxPooling1D(2))\n",
        "net_ECG.add(layers.Conv1D(256, 3, activation='relu'))\n",
        "net_ECG.add(layers.MaxPooling1D(1))\n",
        "net_ECG.add(layers.Conv1D(256, 3, activation='relu'))\n",
        "net_ECG.add(layers.MaxPooling1D(1))\n",
        "net_ECG.add(layers.Conv1D(256, 1, activation='relu'))\n",
        "net_ECG.add(layers.GlobalAveragePooling1D())\n",
        "net_ECG.add(layers.Dropout(0.5))\n",
        "net_ECG.add(layers.Dense(256, activation='relu'))\n",
        "net_ECG.add(layers.Dense(128, activation='relu'))\n",
        "net_ECG.add(layers.Dense(64, activation='relu'))\n",
        "net_ECG.add(layers.Dense(1, activation='softmax'))\n",
        "\n",
        "net_ECG.summary()"
      ],
      "execution_count": null,
      "outputs": [
        {
          "output_type": "stream",
          "text": [
            "Model: \"sequential_3\"\n",
            "_________________________________________________________________\n",
            "Layer (type)                 Output Shape              Param #   \n",
            "=================================================================\n",
            "conv1d_12 (Conv1D)           (None, 2551, 256)         2816      \n",
            "_________________________________________________________________\n",
            "max_pooling1d_9 (MaxPooling1 (None, 1275, 256)         0         \n",
            "_________________________________________________________________\n",
            "conv1d_13 (Conv1D)           (None, 1273, 256)         196864    \n",
            "_________________________________________________________________\n",
            "max_pooling1d_10 (MaxPooling (None, 1273, 256)         0         \n",
            "_________________________________________________________________\n",
            "conv1d_14 (Conv1D)           (None, 1271, 256)         196864    \n",
            "_________________________________________________________________\n",
            "max_pooling1d_11 (MaxPooling (None, 1271, 256)         0         \n",
            "_________________________________________________________________\n",
            "conv1d_15 (Conv1D)           (None, 1271, 256)         65792     \n",
            "_________________________________________________________________\n",
            "global_average_pooling1d_3 ( (None, 256)               0         \n",
            "_________________________________________________________________\n",
            "dropout_3 (Dropout)          (None, 256)               0         \n",
            "_________________________________________________________________\n",
            "dense_12 (Dense)             (None, 256)               65792     \n",
            "_________________________________________________________________\n",
            "dense_13 (Dense)             (None, 128)               32896     \n",
            "_________________________________________________________________\n",
            "dense_14 (Dense)             (None, 64)                8256      \n",
            "_________________________________________________________________\n",
            "dense_15 (Dense)             (None, 1)                 65        \n",
            "=================================================================\n",
            "Total params: 569,345\n",
            "Trainable params: 569,345\n",
            "Non-trainable params: 0\n",
            "_________________________________________________________________\n"
          ],
          "name": "stdout"
        }
      ]
    },
    {
      "cell_type": "code",
      "metadata": {
        "id": "_PkhomtTuLeU",
        "colab_type": "code",
        "colab": {}
      },
      "source": [
        "def my_metric(y_true, y_pred):\n",
        "  squared_difference = tf.square(y_true - y_pred)\n",
        "  return tf.reduce_mean(squared_difference, axis=-1)\n",
        "\n",
        "net_ECG.compile(optimizer='RMSprop',\n",
        "                 loss='binary_crossentropy',\n",
        "                 metrics=['accuracy'])\n",
        "\n",
        "#net_ECG.compile(optimizer='RMSprop',\n",
        "#                loss='binary_crossentropy',\n",
        "#                metrics=[my_metric])"
      ],
      "execution_count": null,
      "outputs": []
    },
    {
      "cell_type": "code",
      "metadata": {
        "id": "PNPsfzMGuMAc",
        "colab_type": "code",
        "colab": {
          "base_uri": "https://localhost:8080/",
          "height": 357
        },
        "outputId": "feec2db1-1771-4876-d74c-6fc2ee111314"
      },
      "source": [
        "#history = net_ECG.fit(x=Data_Preprocessed_ECG_normalized[50:], y=Data_Preprocessed_ECG_labels_valence_no_nan[50:], batch_size=256, epochs=10, validation_split=0.1)\n",
        "history = net_ECG.fit(x=Data_Preprocessed_ECG_normalized[50:], y=Data_Preprocessed_ECG_labels_arousal_no_nan[50:], batch_size=256, epochs=10, validation_split=0.1)"
      ],
      "execution_count": null,
      "outputs": [
        {
          "output_type": "stream",
          "text": [
            "Epoch 1/10\n",
            "9/9 [==============================] - 4s 415ms/step - loss: 7.3701 - accuracy: 0.5167 - val_loss: 7.2167 - val_accuracy: 0.5267\n",
            "Epoch 2/10\n",
            "9/9 [==============================] - 4s 400ms/step - loss: 7.3701 - accuracy: 0.5167 - val_loss: 7.2167 - val_accuracy: 0.5267\n",
            "Epoch 3/10\n",
            "9/9 [==============================] - 4s 404ms/step - loss: 7.3701 - accuracy: 0.5167 - val_loss: 7.2167 - val_accuracy: 0.5267\n",
            "Epoch 4/10\n",
            "9/9 [==============================] - 4s 407ms/step - loss: 7.3701 - accuracy: 0.5167 - val_loss: 7.2167 - val_accuracy: 0.5267\n",
            "Epoch 5/10\n",
            "9/9 [==============================] - 4s 411ms/step - loss: 7.3701 - accuracy: 0.5167 - val_loss: 7.2167 - val_accuracy: 0.5267\n",
            "Epoch 6/10\n",
            "9/9 [==============================] - 4s 414ms/step - loss: 7.3701 - accuracy: 0.5167 - val_loss: 7.2167 - val_accuracy: 0.5267\n",
            "Epoch 7/10\n",
            "9/9 [==============================] - 4s 417ms/step - loss: 7.3701 - accuracy: 0.5167 - val_loss: 7.2167 - val_accuracy: 0.5267\n",
            "Epoch 8/10\n",
            "9/9 [==============================] - 4s 421ms/step - loss: 7.3701 - accuracy: 0.5167 - val_loss: 7.2167 - val_accuracy: 0.5267\n",
            "Epoch 9/10\n",
            "9/9 [==============================] - 4s 422ms/step - loss: 7.3701 - accuracy: 0.5167 - val_loss: 7.2167 - val_accuracy: 0.5267\n",
            "Epoch 10/10\n",
            "9/9 [==============================] - 4s 420ms/step - loss: 7.3701 - accuracy: 0.5167 - val_loss: 7.2167 - val_accuracy: 0.5267\n"
          ],
          "name": "stdout"
        }
      ]
    },
    {
      "cell_type": "code",
      "metadata": {
        "id": "6uucHOty0eCu",
        "colab_type": "code",
        "colab": {
          "base_uri": "https://localhost:8080/",
          "height": 68
        },
        "outputId": "4619eed9-88f0-4ac1-e69f-ec8f98586eb8"
      },
      "source": [
        "#test_loss, test_acc = net_ECG.evaluate(Data_Preprocessed_ECG_normalized[:50], Data_Preprocessed_ECG_labels_valence_no_nan[:50])\n",
        "test_loss, test_acc = net_ECG.evaluate(Data_Preprocessed_ECG_normalized[:50], Data_Preprocessed_ECG_labels_arousal_no_nan[:50]) \n",
        "print('test_acc:', test_acc,'\\n')"
      ],
      "execution_count": null,
      "outputs": [
        {
          "output_type": "stream",
          "text": [
            "2/2 [==============================] - 0s 9ms/step - loss: 8.5396 - accuracy: 0.4400\n",
            "test_acc: 0.4399999976158142 \n",
            "\n"
          ],
          "name": "stdout"
        }
      ]
    },
    {
      "cell_type": "markdown",
      "metadata": {
        "id": "4spF6d2R-3S1",
        "colab_type": "text"
      },
      "source": [
        "**3) CNN with 2 outputs -> for valence and arousal with mse and mae as loss**"
      ]
    },
    {
      "cell_type": "code",
      "metadata": {
        "id": "rPSuJdHz-8W4",
        "colab_type": "code",
        "colab": {
          "base_uri": "https://localhost:8080/",
          "height": 595
        },
        "outputId": "9850947f-1896-43ef-9a27-9909a86f0e24"
      },
      "source": [
        "input_shape = (2560, 1)\n",
        "\n",
        "#ECG\n",
        "'''\n",
        "net_ECG = models.Sequential()\n",
        "net_ECG.add(layers.Conv1D(256, 15, activation='relu', input_shape=input_shape))\n",
        "net_ECG.add(layers.MaxPooling1D(5))\n",
        "net_ECG.add(layers.Conv1D(256, 10, activation='relu'))\n",
        "net_ECG.add(layers.MaxPooling1D(2))\n",
        "net_ECG.add(layers.Conv1D(256, 5, activation='relu'))\n",
        "net_ECG.add(layers.MaxPooling1D(2))\n",
        "net_ECG.add(layers.Conv1D(256, 1, activation='relu'))\n",
        "net_ECG.add(layers.GlobalAveragePooling1D())\n",
        "net_ECG.add(layers.Dropout(0.5))\n",
        "net_ECG.add(layers.Dense(256, activation='relu'))\n",
        "net_ECG.add(layers.Dense(128, activation='relu'))\n",
        "net_ECG.add(layers.Dense(64, activation='relu'))\n",
        "net_ECG.add(layers.Dense(2, activation='softmax'))\n",
        "'''\n",
        "#GSR\n",
        "net_ECG = models.Sequential()\n",
        "net_ECG.add(layers.Conv1D(256, 10, activation='relu', input_shape=input_shape))\n",
        "net_ECG.add(layers.MaxPooling1D(2))\n",
        "net_ECG.add(layers.Conv1D(256, 3, activation='relu'))\n",
        "net_ECG.add(layers.MaxPooling1D(1))\n",
        "net_ECG.add(layers.Conv1D(256, 3, activation='relu'))\n",
        "net_ECG.add(layers.MaxPooling1D(1))\n",
        "net_ECG.add(layers.Conv1D(256, 1, activation='relu'))\n",
        "net_ECG.add(layers.GlobalAveragePooling1D())\n",
        "net_ECG.add(layers.Dropout(0.5))\n",
        "net_ECG.add(layers.Dense(256, activation='relu'))\n",
        "net_ECG.add(layers.Dense(128, activation='relu'))\n",
        "net_ECG.add(layers.Dense(64, activation='relu'))\n",
        "net_ECG.add(layers.Dense(2, activation='softmax'))\n",
        "\n",
        "net_ECG.summary()"
      ],
      "execution_count": null,
      "outputs": [
        {
          "output_type": "stream",
          "text": [
            "Model: \"sequential_5\"\n",
            "_________________________________________________________________\n",
            "Layer (type)                 Output Shape              Param #   \n",
            "=================================================================\n",
            "conv1d_20 (Conv1D)           (None, 2551, 256)         2816      \n",
            "_________________________________________________________________\n",
            "max_pooling1d_15 (MaxPooling (None, 1275, 256)         0         \n",
            "_________________________________________________________________\n",
            "conv1d_21 (Conv1D)           (None, 1273, 256)         196864    \n",
            "_________________________________________________________________\n",
            "max_pooling1d_16 (MaxPooling (None, 1273, 256)         0         \n",
            "_________________________________________________________________\n",
            "conv1d_22 (Conv1D)           (None, 1271, 256)         196864    \n",
            "_________________________________________________________________\n",
            "max_pooling1d_17 (MaxPooling (None, 1271, 256)         0         \n",
            "_________________________________________________________________\n",
            "conv1d_23 (Conv1D)           (None, 1271, 256)         65792     \n",
            "_________________________________________________________________\n",
            "global_average_pooling1d_5 ( (None, 256)               0         \n",
            "_________________________________________________________________\n",
            "dropout_5 (Dropout)          (None, 256)               0         \n",
            "_________________________________________________________________\n",
            "dense_20 (Dense)             (None, 256)               65792     \n",
            "_________________________________________________________________\n",
            "dense_21 (Dense)             (None, 128)               32896     \n",
            "_________________________________________________________________\n",
            "dense_22 (Dense)             (None, 64)                8256      \n",
            "_________________________________________________________________\n",
            "dense_23 (Dense)             (None, 2)                 130       \n",
            "=================================================================\n",
            "Total params: 569,410\n",
            "Trainable params: 569,410\n",
            "Non-trainable params: 0\n",
            "_________________________________________________________________\n"
          ],
          "name": "stdout"
        }
      ]
    },
    {
      "cell_type": "code",
      "metadata": {
        "id": "Gzv1AksP_GdF",
        "colab_type": "code",
        "colab": {}
      },
      "source": [
        "def my_metric(y_true, y_pred):\n",
        "  squared_difference = tf.square(y_true - y_pred)\n",
        "  return tf.reduce_mean(squared_difference, axis=-1)\n",
        "\n",
        "net_ECG.compile(optimizer='RMSprop',\n",
        "                 #loss='mean_absolute_error',\n",
        "                 loss='mean_squared_error',\n",
        "                 metrics=['accuracy'])"
      ],
      "execution_count": null,
      "outputs": []
    },
    {
      "cell_type": "code",
      "metadata": {
        "id": "wYNCUIEK_QoD",
        "colab_type": "code",
        "colab": {
          "base_uri": "https://localhost:8080/",
          "height": 394
        },
        "outputId": "814b322e-891c-485a-c5af-66833ffdbf2c"
      },
      "source": [
        "history = net_ECG.fit(x=Data_Preprocessed_ECG_normalized[50:], y=Data_Preprocessed_ECG_labels_no_nan[50:], batch_size=256, epochs=10, validation_split=0.1)"
      ],
      "execution_count": null,
      "outputs": [
        {
          "output_type": "stream",
          "text": [
            "Epoch 1/10\n",
            "2/9 [=====>........................] - ETA: 2s - loss: 0.2539 - accuracy: 0.5371WARNING:tensorflow:Callbacks method `on_train_batch_end` is slow compared to the batch time (batch time: 0.1679s vs `on_train_batch_end` time: 0.2575s). Check your callbacks.\n",
            "9/9 [==============================] - 4s 426ms/step - loss: 0.2501 - accuracy: 0.7366 - val_loss: 0.2474 - val_accuracy: 0.8395\n",
            "Epoch 2/10\n",
            "9/9 [==============================] - 4s 411ms/step - loss: 0.2493 - accuracy: 0.8208 - val_loss: 0.2485 - val_accuracy: 0.8395\n",
            "Epoch 3/10\n",
            "9/9 [==============================] - 4s 414ms/step - loss: 0.2489 - accuracy: 0.8208 - val_loss: 0.2476 - val_accuracy: 0.8395\n",
            "Epoch 4/10\n",
            "9/9 [==============================] - 4s 419ms/step - loss: 0.2486 - accuracy: 0.8208 - val_loss: 0.2475 - val_accuracy: 0.8395\n",
            "Epoch 5/10\n",
            "9/9 [==============================] - 4s 422ms/step - loss: 0.2489 - accuracy: 0.8208 - val_loss: 0.2478 - val_accuracy: 0.8395\n",
            "Epoch 6/10\n",
            "9/9 [==============================] - 4s 426ms/step - loss: 0.2487 - accuracy: 0.8208 - val_loss: 0.2481 - val_accuracy: 0.8395\n",
            "Epoch 7/10\n",
            "9/9 [==============================] - 4s 429ms/step - loss: 0.2487 - accuracy: 0.8208 - val_loss: 0.2475 - val_accuracy: 0.8395\n",
            "Epoch 8/10\n",
            "9/9 [==============================] - 4s 434ms/step - loss: 0.2486 - accuracy: 0.8208 - val_loss: 0.2477 - val_accuracy: 0.8395\n",
            "Epoch 9/10\n",
            "9/9 [==============================] - 4s 439ms/step - loss: 0.2486 - accuracy: 0.8208 - val_loss: 0.2483 - val_accuracy: 0.8395\n",
            "Epoch 10/10\n",
            "9/9 [==============================] - 4s 442ms/step - loss: 0.2487 - accuracy: 0.8208 - val_loss: 0.2474 - val_accuracy: 0.8395\n"
          ],
          "name": "stdout"
        }
      ]
    },
    {
      "cell_type": "code",
      "metadata": {
        "id": "PjPUQIio_WKT",
        "colab_type": "code",
        "colab": {
          "base_uri": "https://localhost:8080/",
          "height": 68
        },
        "outputId": "303b1454-5ba1-43c9-eae4-fda193ef0863"
      },
      "source": [
        "test_loss, test_acc = net_ECG.evaluate(Data_Preprocessed_ECG_normalized[:50], Data_Preprocessed_ECG_labels_no_nan[:50]) \n",
        "print('test_acc:', test_acc,'\\n')"
      ],
      "execution_count": null,
      "outputs": [
        {
          "output_type": "stream",
          "text": [
            "2/2 [==============================] - 0s 10ms/step - loss: 0.2456 - accuracy: 0.8200\n",
            "test_acc: 0.8199999928474426 \n",
            "\n"
          ],
          "name": "stdout"
        }
      ]
    }
  ]
}